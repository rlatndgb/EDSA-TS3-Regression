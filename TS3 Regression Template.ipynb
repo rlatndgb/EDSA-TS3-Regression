{
 "cells": [
  {
   "attachments": {
    "Gold%20apple.png": {
     "image/png": "[encoded data removed]"
    }
   },
   "cell_type": "markdown",
   "metadata": {},
   "source": [
    "# EDSA Apple Price Challenge - TS3 Regression\n",
    "\n",
    "![Gold%20apple.png](attachment:Gold%20apple.png)"
   ]
  },
  {
   "cell_type": "markdown",
   "metadata": {},
   "source": [
    "# Introduction\n",
    "\n",
    "We are going to construct a regression algorithm that will accurately predict the price of the Golden Delicious Apples given the conditions. \n",
    "\n",
    "We will embark on a journey to explore the following:"
   ]
  },
  {
   "cell_type": "markdown",
   "metadata": {},
   "source": [
    "\n",
    "### 1. Collecting/downloading the golden apple data (Data Collection)\n",
    "   \n",
    "### 2. Review the dataset for abnormality and make ammendments where necessary (Data cleaning)\n",
    "a. Null values \n",
    "\n",
    "c. Duplicate values        \n",
    "        \n",
    "### 3. Investigate the data through descriptive statistics and visualisation tools (EDA)\n",
    "a. Understand the pattern in the data\n",
    "\n",
    "b. Determine relationship between the variables\n",
    "\n",
    "c. Discover outliers in the data        \n",
    "        \n",
    "### 3. Build the model that will allow us to accurately predict the price of the Golden Apples (Model building)\n",
    "a. Select the variables that are relevant in making the price decisions\n",
    "\n",
    "b. Try different algorithms to find the best model\n",
    "\n",
    "c. Train our best model \n",
    "\n",
    "### 4. Deploy our model, and enter the Kaggle competition!"
   ]
  },
  {
   "source": [
    "asdfasdfasdfasdfasdfasdfasdfasdfasdfasdfaef"
   ],
   "cell_type": "markdown",
   "metadata": {}
  },
  {
   "cell_type": "markdown",
   "metadata": {},
   "source": [
    "# Importing Python libraries\n",
    "\n",
    "We will first import all the libraries needed for our journey"
   ]
  },
  {
   "cell_type": "code",
   "execution_count": 2,
   "metadata": {},
   "outputs": [],
   "source": [
    "from scipy import stats\n",
    "import math\n",
    "import pickle\n",
    "import numpy as np\n",
    "import pandas as pd\n",
    "\n",
    "\n",
    "# Visualisation\n",
    "import matplotlib.pyplot as plt\n",
    "import seaborn as sns\n",
    "import missingno\n",
    "%matplotlib inline\n",
    "\n",
    "# Regression\n",
    "from sklearn.linear_model import LinearRegression\n",
    "\n",
    "# Model selection\n",
    "from sklearn.model_selection import train_test_split\n",
    "\n",
    "# Preprocessing\n",
    "from sklearn.preprocessing import StandardScaler\n",
    "\n",
    "#Add more as we need"
   ]
  },
  {
   "cell_type": "markdown",
   "metadata": {},
   "source": [
    "# 1. Data Collection"
   ]
  },
  {
   "cell_type": "markdown",
   "metadata": {},
   "source": [
    "# Importing the data\n",
    "\n",
    "We will import our data here"
   ]
  },
  {
   "cell_type": "code",
   "execution_count": 23,
   "metadata": {},
   "outputs": [],
   "source": [
    "#Importing the test dataset from Git repo\n",
    "\n",
    "df_test   = pd.read_csv('https://raw.githubusercontent.com/rlatndgb/EDSA-TS3-Regression/main/df-test_set.csv', index_col=0)\n",
    "df_train = pd.read_csv('https://raw.githubusercontent.com/rlatndgb/EDSA-TS3-Regression/main/df-train_set.csv', index_col=0)"
   ]
  },
  {
   "cell_type": "code",
   "execution_count": 4,
   "metadata": {},
   "outputs": [
    {
     "output_type": "execute_result",
     "data": {
      "text/plain": [
       "                   Province Container Size_Grade  Weight_Kg  \\\n",
       "Index                                                         \n",
       "1      W.CAPE-BERGRIVER ETC     EC120         1M       12.0   \n",
       "2      W.CAPE-BERGRIVER ETC     M4183         1X       18.3   \n",
       "3      W.CAPE-BERGRIVER ETC     EC120         1S       12.0   \n",
       "4      W.CAPE-BERGRIVER ETC     M4183         1M       18.3   \n",
       "5      W.CAPE-BERGRIVER ETC     M4183         1L       18.3   \n",
       "\n",
       "                  Commodities        Date  Low_Price  High_Price  Sales_Total  \\\n",
       "Index                                                                           \n",
       "1      APPLE GOLDEN DELICIOUS  2020-07-09      128.0       136.0       5008.0   \n",
       "2      APPLE GOLDEN DELICIOUS  2020-01-20      220.0       220.0       1760.0   \n",
       "3      APPLE GOLDEN DELICIOUS  2020-08-19      120.0       120.0        720.0   \n",
       "4      APPLE GOLDEN DELICIOUS  2020-05-06      160.0       160.0        160.0   \n",
       "5      APPLE GOLDEN DELICIOUS  2020-05-04      140.0       160.0      14140.0   \n",
       "\n",
       "       Total_Qty_Sold  Total_Kg_Sold  Stock_On_Hand  \n",
       "Index                                                \n",
       "1                  38          456.0              0  \n",
       "2                   8          146.4              2  \n",
       "3                   6           72.0             45  \n",
       "4                   1           18.3              8  \n",
       "5                 100         1830.0             19  "
      ],
      "text/html": "<div>\n<style scoped>\n    .dataframe tbody tr th:only-of-type {\n        vertical-align: middle;\n    }\n\n    .dataframe tbody tr th {\n        vertical-align: top;\n    }\n\n    .dataframe thead th {\n        text-align: right;\n    }\n</style>\n<table border=\"1\" class=\"dataframe\">\n  <thead>\n    <tr style=\"text-align: right;\">\n      <th></th>\n      <th>Province</th>\n      <th>Container</th>\n      <th>Size_Grade</th>\n      <th>Weight_Kg</th>\n      <th>Commodities</th>\n      <th>Date</th>\n      <th>Low_Price</th>\n      <th>High_Price</th>\n      <th>Sales_Total</th>\n      <th>Total_Qty_Sold</th>\n      <th>Total_Kg_Sold</th>\n      <th>Stock_On_Hand</th>\n    </tr>\n    <tr>\n      <th>Index</th>\n      <th></th>\n      <th></th>\n      <th></th>\n      <th></th>\n      <th></th>\n      <th></th>\n      <th></th>\n      <th></th>\n      <th></th>\n      <th></th>\n      <th></th>\n      <th></th>\n    </tr>\n  </thead>\n  <tbody>\n    <tr>\n      <th>1</th>\n      <td>W.CAPE-BERGRIVER ETC</td>\n      <td>EC120</td>\n      <td>1M</td>\n      <td>12.0</td>\n      <td>APPLE GOLDEN DELICIOUS</td>\n      <td>2020-07-09</td>\n      <td>128.0</td>\n      <td>136.0</td>\n      <td>5008.0</td>\n      <td>38</td>\n      <td>456.0</td>\n      <td>0</td>\n    </tr>\n    <tr>\n      <th>2</th>\n      <td>W.CAPE-BERGRIVER ETC</td>\n      <td>M4183</td>\n      <td>1X</td>\n      <td>18.3</td>\n      <td>APPLE GOLDEN DELICIOUS</td>\n      <td>2020-01-20</td>\n      <td>220.0</td>\n      <td>220.0</td>\n      <td>1760.0</td>\n      <td>8</td>\n      <td>146.4</td>\n      <td>2</td>\n    </tr>\n    <tr>\n      <th>3</th>\n      <td>W.CAPE-BERGRIVER ETC</td>\n      <td>EC120</td>\n      <td>1S</td>\n      <td>12.0</td>\n      <td>APPLE GOLDEN DELICIOUS</td>\n      <td>2020-08-19</td>\n      <td>120.0</td>\n      <td>120.0</td>\n      <td>720.0</td>\n      <td>6</td>\n      <td>72.0</td>\n      <td>45</td>\n    </tr>\n    <tr>\n      <th>4</th>\n      <td>W.CAPE-BERGRIVER ETC</td>\n      <td>M4183</td>\n      <td>1M</td>\n      <td>18.3</td>\n      <td>APPLE GOLDEN DELICIOUS</td>\n      <td>2020-05-06</td>\n      <td>160.0</td>\n      <td>160.0</td>\n      <td>160.0</td>\n      <td>1</td>\n      <td>18.3</td>\n      <td>8</td>\n    </tr>\n    <tr>\n      <th>5</th>\n      <td>W.CAPE-BERGRIVER ETC</td>\n      <td>M4183</td>\n      <td>1L</td>\n      <td>18.3</td>\n      <td>APPLE GOLDEN DELICIOUS</td>\n      <td>2020-05-04</td>\n      <td>140.0</td>\n      <td>160.0</td>\n      <td>14140.0</td>\n      <td>100</td>\n      <td>1830.0</td>\n      <td>19</td>\n    </tr>\n  </tbody>\n</table>\n</div>"
     },
     "metadata": {},
     "execution_count": 4
    }
   ],
   "source": [
    "#First 5 rows of the test data\n",
    "df_test.head()"
   ]
  },
  {
   "source": [
    "### Testing KB"
   ],
   "cell_type": "markdown",
   "metadata": {}
  },
  {
   "cell_type": "code",
   "execution_count": 5,
   "metadata": {},
   "outputs": [
    {
     "output_type": "execute_result",
     "data": {
      "text/plain": [
       "                  Container Size_Grade  Weight_Kg             Commodities  \\\n",
       "Province                                                                    \n",
       "CAPE                  EC120         1L       12.0      APPLE GRANNY SMITH   \n",
       "CAPE                  M4183         1L       18.3  APPLE GOLDEN DELICIOUS   \n",
       "GAUTENG               AT200         1L       20.0       AVOCADO PINKERTON   \n",
       "TRANSVAAL             BJ090         1L        9.0      TOMATOES-LONG LIFE   \n",
       "WESTERN FREESTATE     PP100         1R       10.0   POTATO SIFRA (WASHED)   \n",
       "\n",
       "                         Date  Low_Price  High_Price  Sales_Total  \\\n",
       "Province                                                            \n",
       "CAPE               2020-03-10      108.0       112.0       3236.0   \n",
       "CAPE               2020-09-09      150.0       170.0      51710.0   \n",
       "GAUTENG            2020-05-05       70.0        80.0       4860.0   \n",
       "TRANSVAAL          2020-01-20       60.0        60.0        600.0   \n",
       "WESTERN FREESTATE  2020-07-14       40.0        45.0      41530.0   \n",
       "\n",
       "                   Total_Qty_Sold  Total_Kg_Sold  Stock_On_Hand  \\\n",
       "Province                                                          \n",
       "CAPE                           29          348.0              0   \n",
       "CAPE                          332         6075.6            822   \n",
       "GAUTENG                        66         1320.0             50   \n",
       "TRANSVAAL                      10           90.0              0   \n",
       "WESTERN FREESTATE             927         9270.0            393   \n",
       "\n",
       "                   avg_price_per_kg  \n",
       "Province                             \n",
       "CAPE                           9.30  \n",
       "CAPE                           8.51  \n",
       "GAUTENG                        3.68  \n",
       "TRANSVAAL                      6.67  \n",
       "WESTERN FREESTATE              4.48  "
      ],
      "text/html": "<div>\n<style scoped>\n    .dataframe tbody tr th:only-of-type {\n        vertical-align: middle;\n    }\n\n    .dataframe tbody tr th {\n        vertical-align: top;\n    }\n\n    .dataframe thead th {\n        text-align: right;\n    }\n</style>\n<table border=\"1\" class=\"dataframe\">\n  <thead>\n    <tr style=\"text-align: right;\">\n      <th></th>\n      <th>Container</th>\n      <th>Size_Grade</th>\n      <th>Weight_Kg</th>\n      <th>Commodities</th>\n      <th>Date</th>\n      <th>Low_Price</th>\n      <th>High_Price</th>\n      <th>Sales_Total</th>\n      <th>Total_Qty_Sold</th>\n      <th>Total_Kg_Sold</th>\n      <th>Stock_On_Hand</th>\n      <th>avg_price_per_kg</th>\n    </tr>\n    <tr>\n      <th>Province</th>\n      <th></th>\n      <th></th>\n      <th></th>\n      <th></th>\n      <th></th>\n      <th></th>\n      <th></th>\n      <th></th>\n      <th></th>\n      <th></th>\n      <th></th>\n      <th></th>\n    </tr>\n  </thead>\n  <tbody>\n    <tr>\n      <th>CAPE</th>\n      <td>EC120</td>\n      <td>1L</td>\n      <td>12.0</td>\n      <td>APPLE GRANNY SMITH</td>\n      <td>2020-03-10</td>\n      <td>108.0</td>\n      <td>112.0</td>\n      <td>3236.0</td>\n      <td>29</td>\n      <td>348.0</td>\n      <td>0</td>\n      <td>9.30</td>\n    </tr>\n    <tr>\n      <th>CAPE</th>\n      <td>M4183</td>\n      <td>1L</td>\n      <td>18.3</td>\n      <td>APPLE GOLDEN DELICIOUS</td>\n      <td>2020-09-09</td>\n      <td>150.0</td>\n      <td>170.0</td>\n      <td>51710.0</td>\n      <td>332</td>\n      <td>6075.6</td>\n      <td>822</td>\n      <td>8.51</td>\n    </tr>\n    <tr>\n      <th>GAUTENG</th>\n      <td>AT200</td>\n      <td>1L</td>\n      <td>20.0</td>\n      <td>AVOCADO PINKERTON</td>\n      <td>2020-05-05</td>\n      <td>70.0</td>\n      <td>80.0</td>\n      <td>4860.0</td>\n      <td>66</td>\n      <td>1320.0</td>\n      <td>50</td>\n      <td>3.68</td>\n    </tr>\n    <tr>\n      <th>TRANSVAAL</th>\n      <td>BJ090</td>\n      <td>1L</td>\n      <td>9.0</td>\n      <td>TOMATOES-LONG LIFE</td>\n      <td>2020-01-20</td>\n      <td>60.0</td>\n      <td>60.0</td>\n      <td>600.0</td>\n      <td>10</td>\n      <td>90.0</td>\n      <td>0</td>\n      <td>6.67</td>\n    </tr>\n    <tr>\n      <th>WESTERN FREESTATE</th>\n      <td>PP100</td>\n      <td>1R</td>\n      <td>10.0</td>\n      <td>POTATO SIFRA (WASHED)</td>\n      <td>2020-07-14</td>\n      <td>40.0</td>\n      <td>45.0</td>\n      <td>41530.0</td>\n      <td>927</td>\n      <td>9270.0</td>\n      <td>393</td>\n      <td>4.48</td>\n    </tr>\n  </tbody>\n</table>\n</div>"
     },
     "metadata": {},
     "execution_count": 5
    }
   ],
   "source": [
    "#First 5 rows of the train data\n",
    "df_train.head()"
   ]
  },
  {
   "source": [
    "### Notice that the train data contains many more commodities besides the APPLE GOLDEN DELICIOUS"
   ],
   "cell_type": "markdown",
   "metadata": {}
  },
  {
   "cell_type": "markdown",
   "metadata": {},
   "source": [
    "# 2. Data Cleaning"
   ]
  },
  {
   "cell_type": "markdown",
   "metadata": {},
   "source": [
    "Let's have a quick overview of our dataset!"
   ]
  },
  {
   "cell_type": "code",
   "execution_count": 6,
   "metadata": {},
   "outputs": [
    {
     "output_type": "execute_result",
     "data": {
      "text/plain": [
       "(685, 12)"
      ]
     },
     "metadata": {},
     "execution_count": 6
    }
   ],
   "source": [
    "#Check the shape of our df_test\n",
    "df_test.shape"
   ]
  },
  {
   "cell_type": "code",
   "execution_count": 7,
   "metadata": {},
   "outputs": [
    {
     "output_type": "execute_result",
     "data": {
      "text/plain": [
       "(64376, 12)"
      ]
     },
     "metadata": {},
     "execution_count": 7
    }
   ],
   "source": [
    "df_train.shape"
   ]
  },
  {
   "cell_type": "markdown",
   "metadata": {},
   "source": [
    "There are a lot more data in the train dataset compare to the test dataset"
   ]
  },
  {
   "cell_type": "code",
   "execution_count": 8,
   "metadata": {},
   "outputs": [
    {
     "output_type": "stream",
     "name": "stdout",
     "text": [
      "<class 'pandas.core.frame.DataFrame'>\nInt64Index: 685 entries, 1 to 685\nData columns (total 12 columns):\n #   Column          Non-Null Count  Dtype  \n---  ------          --------------  -----  \n 0   Province        685 non-null    object \n 1   Container       685 non-null    object \n 2   Size_Grade      685 non-null    object \n 3   Weight_Kg       685 non-null    float64\n 4   Commodities     685 non-null    object \n 5   Date            685 non-null    object \n 6   Low_Price       685 non-null    float64\n 7   High_Price      685 non-null    float64\n 8   Sales_Total     685 non-null    float64\n 9   Total_Qty_Sold  685 non-null    int64  \n 10  Total_Kg_Sold   685 non-null    float64\n 11  Stock_On_Hand   685 non-null    int64  \ndtypes: float64(5), int64(2), object(5)\nmemory usage: 69.6+ KB\n"
     ]
    }
   ],
   "source": [
    "#Detailed information of our data\n",
    "df_test.info()"
   ]
  },
  {
   "cell_type": "code",
   "execution_count": 9,
   "metadata": {},
   "outputs": [
    {
     "output_type": "stream",
     "name": "stdout",
     "text": [
      "<class 'pandas.core.frame.DataFrame'>\nIndex: 64376 entries, CAPE to CAPE\nData columns (total 12 columns):\n #   Column            Non-Null Count  Dtype  \n---  ------            --------------  -----  \n 0   Container         64376 non-null  object \n 1   Size_Grade        64376 non-null  object \n 2   Weight_Kg         64376 non-null  float64\n 3   Commodities       64376 non-null  object \n 4   Date              64376 non-null  object \n 5   Low_Price         64376 non-null  float64\n 6   High_Price        64376 non-null  float64\n 7   Sales_Total       64376 non-null  float64\n 8   Total_Qty_Sold    64376 non-null  int64  \n 9   Total_Kg_Sold     64376 non-null  float64\n 10  Stock_On_Hand     64376 non-null  int64  \n 11  avg_price_per_kg  64376 non-null  float64\ndtypes: float64(6), int64(2), object(4)\nmemory usage: 6.4+ MB\n"
     ]
    }
   ],
   "source": [
    "df_train.info()"
   ]
  },
  {
   "cell_type": "markdown",
   "metadata": {},
   "source": [
    "The info command allowed us to confirm that there are **12** variables, some **categorical** and some **numerical**.\n",
    "We do not have any null values, however we will reassure using another command"
   ]
  },
  {
   "cell_type": "code",
   "execution_count": 24,
   "metadata": {},
   "outputs": [],
   "source": [
    "#Here we are creating a function that searches for any mising values\n",
    "\n",
    "def missing_values_table(df):\n",
    "        mis_val = df.isnull().sum()\n",
    "        \n",
    "        mis_val_percent = 100 * df.isnull().sum() / len(df)\n",
    "        \n",
    "        mis_val_table = pd.concat([mis_val, mis_val_percent], axis=1)\n",
    "        \n",
    "        mis_val_table_ren_columns = mis_val_table.rename(\n",
    "        columns = {0 : 'Missing Values', 1 : '% of Total Values'})\n",
    "        \n",
    "        mis_val_table_ren_columns = mis_val_table_ren_columns[\n",
    "            mis_val_table_ren_columns.iloc[:,1] != 0].sort_values(\n",
    "        '% of Total Values', ascending=False).round(1)\n",
    "        \n",
    "        print (\"Your selected dataframe has \" + str(df.shape[1]) + \" columns.\\n\"      \n",
    "            \"There are \" + str(mis_val_table_ren_columns.shape[0]) +\n",
    "              \" columns that have missing values.\")\n",
    "        \n",
    "        # Return the dataframe with missing information\n",
    "        return mis_val_table_ren_columns"
   ]
  },
  {
   "cell_type": "code",
   "execution_count": 25,
   "metadata": {},
   "outputs": [
    {
     "output_type": "stream",
     "name": "stdout",
     "text": [
      "Your selected dataframe has 12 columns.\nThere are 0 columns that have missing values.\n"
     ]
    },
    {
     "output_type": "execute_result",
     "data": {
      "text/plain": [
       "Empty DataFrame\n",
       "Columns: [Missing Values, % of Total Values]\n",
       "Index: []"
      ],
      "text/html": "<div>\n<style scoped>\n    .dataframe tbody tr th:only-of-type {\n        vertical-align: middle;\n    }\n\n    .dataframe tbody tr th {\n        vertical-align: top;\n    }\n\n    .dataframe thead th {\n        text-align: right;\n    }\n</style>\n<table border=\"1\" class=\"dataframe\">\n  <thead>\n    <tr style=\"text-align: right;\">\n      <th></th>\n      <th>Missing Values</th>\n      <th>% of Total Values</th>\n    </tr>\n  </thead>\n  <tbody>\n  </tbody>\n</table>\n</div>"
     },
     "metadata": {},
     "execution_count": 25
    }
   ],
   "source": [
    "#Missing values in the test data\n",
    "\n",
    "missing_values_table(df_test)"
   ]
  },
  {
   "cell_type": "code",
   "execution_count": 14,
   "metadata": {},
   "outputs": [
    {
     "output_type": "stream",
     "name": "stdout",
     "text": [
      "Your selected dataframe has 12 columns.\n",
      "There are 0 columns that have missing values.\n"
     ]
    },
    {
     "output_type": "execute_result",
     "data": {
      "text/plain": [
       "Empty DataFrame\n",
       "Columns: [Missing Values, % of Total Values]\n",
       "Index: []"
      ],
      "text/html": "<div>\n<style scoped>\n    .dataframe tbody tr th:only-of-type {\n        vertical-align: middle;\n    }\n\n    .dataframe tbody tr th {\n        vertical-align: top;\n    }\n\n    .dataframe thead th {\n        text-align: right;\n    }\n</style>\n<table border=\"1\" class=\"dataframe\">\n  <thead>\n    <tr style=\"text-align: right;\">\n      <th></th>\n      <th>Missing Values</th>\n      <th>% of Total Values</th>\n    </tr>\n  </thead>\n  <tbody>\n  </tbody>\n</table>\n</div>"
     },
     "metadata": {},
     "execution_count": 14
    }
   ],
   "source": [
    "#Missing values in the train data\n",
    "\n",
    "missing_values_table(df_train)"
   ]
  },
  {
   "cell_type": "markdown",
   "metadata": {},
   "source": [
    "There are **no** null values in our data set. Lovely!"
   ]
  },
  {
   "cell_type": "markdown",
   "metadata": {},
   "source": [
    "# 3. Exploratory Data Analysis"
   ]
  },
  {
   "cell_type": "markdown",
   "metadata": {},
   "source": [
    "Let's have a look at some descriptive statistics of our data.\n",
    "\n",
    "This includes, the **count, mean, standard deviation, minimum, Q1, median, Q3 and maximum value**."
   ]
  },
  {
   "cell_type": "code",
   "execution_count": 13,
   "metadata": {},
   "outputs": [
    {
     "output_type": "execute_result",
     "data": {
      "text/plain": [
       "       Weight_Kg  Low_Price  High_Price  Sales_Total  Total_Qty_Sold  \\\n",
       "count     685.00     685.00      685.00       685.00          685.00   \n",
       "mean       34.14     164.20      195.59     18788.11          174.88   \n",
       "std        87.58     355.17      389.11     33951.59          299.35   \n",
       "min         3.00      10.00       10.00        10.00            1.00   \n",
       "25%         9.00      50.00       64.00      1300.00           13.00   \n",
       "50%        12.00      80.00      112.00      5520.00           62.00   \n",
       "75%        18.30     128.00      160.00     21176.00          200.00   \n",
       "max       400.00    2400.00     2400.00    308010.00         2774.00   \n",
       "\n",
       "       Total_Kg_Sold  Stock_On_Hand  \n",
       "count         685.00         685.00  \n",
       "mean         2725.40         439.25  \n",
       "std          5059.12         715.99  \n",
       "min             6.30           0.00  \n",
       "25%           204.00          20.00  \n",
       "50%           860.10         153.00  \n",
       "75%          3033.00         516.00  \n",
       "max         47200.00        6827.00  "
      ],
      "text/html": "<div>\n<style scoped>\n    .dataframe tbody tr th:only-of-type {\n        vertical-align: middle;\n    }\n\n    .dataframe tbody tr th {\n        vertical-align: top;\n    }\n\n    .dataframe thead th {\n        text-align: right;\n    }\n</style>\n<table border=\"1\" class=\"dataframe\">\n  <thead>\n    <tr style=\"text-align: right;\">\n      <th></th>\n      <th>Weight_Kg</th>\n      <th>Low_Price</th>\n      <th>High_Price</th>\n      <th>Sales_Total</th>\n      <th>Total_Qty_Sold</th>\n      <th>Total_Kg_Sold</th>\n      <th>Stock_On_Hand</th>\n    </tr>\n  </thead>\n  <tbody>\n    <tr>\n      <th>count</th>\n      <td>685.00</td>\n      <td>685.00</td>\n      <td>685.00</td>\n      <td>685.00</td>\n      <td>685.00</td>\n      <td>685.00</td>\n      <td>685.00</td>\n    </tr>\n    <tr>\n      <th>mean</th>\n      <td>34.14</td>\n      <td>164.20</td>\n      <td>195.59</td>\n      <td>18788.11</td>\n      <td>174.88</td>\n      <td>2725.40</td>\n      <td>439.25</td>\n    </tr>\n    <tr>\n      <th>std</th>\n      <td>87.58</td>\n      <td>355.17</td>\n      <td>389.11</td>\n      <td>33951.59</td>\n      <td>299.35</td>\n      <td>5059.12</td>\n      <td>715.99</td>\n    </tr>\n    <tr>\n      <th>min</th>\n      <td>3.00</td>\n      <td>10.00</td>\n      <td>10.00</td>\n      <td>10.00</td>\n      <td>1.00</td>\n      <td>6.30</td>\n      <td>0.00</td>\n    </tr>\n    <tr>\n      <th>25%</th>\n      <td>9.00</td>\n      <td>50.00</td>\n      <td>64.00</td>\n      <td>1300.00</td>\n      <td>13.00</td>\n      <td>204.00</td>\n      <td>20.00</td>\n    </tr>\n    <tr>\n      <th>50%</th>\n      <td>12.00</td>\n      <td>80.00</td>\n      <td>112.00</td>\n      <td>5520.00</td>\n      <td>62.00</td>\n      <td>860.10</td>\n      <td>153.00</td>\n    </tr>\n    <tr>\n      <th>75%</th>\n      <td>18.30</td>\n      <td>128.00</td>\n      <td>160.00</td>\n      <td>21176.00</td>\n      <td>200.00</td>\n      <td>3033.00</td>\n      <td>516.00</td>\n    </tr>\n    <tr>\n      <th>max</th>\n      <td>400.00</td>\n      <td>2400.00</td>\n      <td>2400.00</td>\n      <td>308010.00</td>\n      <td>2774.00</td>\n      <td>47200.00</td>\n      <td>6827.00</td>\n    </tr>\n  </tbody>\n</table>\n</div>"
     },
     "metadata": {},
     "execution_count": 13
    }
   ],
   "source": [
    "#Descriptional Stats on the test data\n",
    "\n",
    "round(df_test.describe(), 2)"
   ]
  },
  {
   "cell_type": "code",
   "execution_count": 14,
   "metadata": {},
   "outputs": [
    {
     "output_type": "execute_result",
     "data": {
      "text/plain": [
       "       Weight_Kg  Low_Price  High_Price  Sales_Total  Total_Qty_Sold  \\\n",
       "count   64376.00   64376.00    64376.00     64376.00        64376.00   \n",
       "mean       12.78      75.65       89.61     19395.01          446.10   \n",
       "std        35.94     159.51      172.22     44421.92         1184.17   \n",
       "min         0.12       1.00        1.00    -57700.00         -595.00   \n",
       "25%         7.00      30.00       35.00      1154.00           20.00   \n",
       "50%        10.00      46.00       55.00      5400.00          107.00   \n",
       "75%        11.00      80.00      100.00     18772.00          390.00   \n",
       "max       500.00    4400.00     4400.00   1134701.00        39453.00   \n",
       "\n",
       "       Total_Kg_Sold  Stock_On_Hand  avg_price_per_kg  \n",
       "count       64376.00       64376.00          64376.00  \n",
       "mean         3336.64         477.65               NaN  \n",
       "std          7682.30        1453.89               NaN  \n",
       "min         -5040.00        -512.00              -inf  \n",
       "25%           175.00           0.00              4.02  \n",
       "50%           940.00          76.00              6.00  \n",
       "75%          3250.00         381.00              8.67  \n",
       "max        192230.00       93193.00               inf  "
      ],
      "text/html": "<div>\n<style scoped>\n    .dataframe tbody tr th:only-of-type {\n        vertical-align: middle;\n    }\n\n    .dataframe tbody tr th {\n        vertical-align: top;\n    }\n\n    .dataframe thead th {\n        text-align: right;\n    }\n</style>\n<table border=\"1\" class=\"dataframe\">\n  <thead>\n    <tr style=\"text-align: right;\">\n      <th></th>\n      <th>Weight_Kg</th>\n      <th>Low_Price</th>\n      <th>High_Price</th>\n      <th>Sales_Total</th>\n      <th>Total_Qty_Sold</th>\n      <th>Total_Kg_Sold</th>\n      <th>Stock_On_Hand</th>\n      <th>avg_price_per_kg</th>\n    </tr>\n  </thead>\n  <tbody>\n    <tr>\n      <th>count</th>\n      <td>64376.00</td>\n      <td>64376.00</td>\n      <td>64376.00</td>\n      <td>64376.00</td>\n      <td>64376.00</td>\n      <td>64376.00</td>\n      <td>64376.00</td>\n      <td>64376.00</td>\n    </tr>\n    <tr>\n      <th>mean</th>\n      <td>12.78</td>\n      <td>75.65</td>\n      <td>89.61</td>\n      <td>19395.01</td>\n      <td>446.10</td>\n      <td>3336.64</td>\n      <td>477.65</td>\n      <td>NaN</td>\n    </tr>\n    <tr>\n      <th>std</th>\n      <td>35.94</td>\n      <td>159.51</td>\n      <td>172.22</td>\n      <td>44421.92</td>\n      <td>1184.17</td>\n      <td>7682.30</td>\n      <td>1453.89</td>\n      <td>NaN</td>\n    </tr>\n    <tr>\n      <th>min</th>\n      <td>0.12</td>\n      <td>1.00</td>\n      <td>1.00</td>\n      <td>-57700.00</td>\n      <td>-595.00</td>\n      <td>-5040.00</td>\n      <td>-512.00</td>\n      <td>-inf</td>\n    </tr>\n    <tr>\n      <th>25%</th>\n      <td>7.00</td>\n      <td>30.00</td>\n      <td>35.00</td>\n      <td>1154.00</td>\n      <td>20.00</td>\n      <td>175.00</td>\n      <td>0.00</td>\n      <td>4.02</td>\n    </tr>\n    <tr>\n      <th>50%</th>\n      <td>10.00</td>\n      <td>46.00</td>\n      <td>55.00</td>\n      <td>5400.00</td>\n      <td>107.00</td>\n      <td>940.00</td>\n      <td>76.00</td>\n      <td>6.00</td>\n    </tr>\n    <tr>\n      <th>75%</th>\n      <td>11.00</td>\n      <td>80.00</td>\n      <td>100.00</td>\n      <td>18772.00</td>\n      <td>390.00</td>\n      <td>3250.00</td>\n      <td>381.00</td>\n      <td>8.67</td>\n    </tr>\n    <tr>\n      <th>max</th>\n      <td>500.00</td>\n      <td>4400.00</td>\n      <td>4400.00</td>\n      <td>1134701.00</td>\n      <td>39453.00</td>\n      <td>192230.00</td>\n      <td>93193.00</td>\n      <td>inf</td>\n    </tr>\n  </tbody>\n</table>\n</div>"
     },
     "metadata": {},
     "execution_count": 14
    }
   ],
   "source": [
    "#Descriptive stats on the train data\n",
    "\n",
    "round(df_train.describe(), 2)"
   ]
  },
  {
   "source": [
    "The train data contains some nagative values, and there are also inf values. Let's see what those are"
   ],
   "cell_type": "markdown",
   "metadata": {}
  },
  {
   "cell_type": "code",
   "execution_count": 30,
   "metadata": {},
   "outputs": [
    {
     "output_type": "execute_result",
     "data": {
      "text/plain": [
       "                  Container Size_Grade  Weight_Kg              Commodities  \\\n",
       "Province                                                                     \n",
       "CAPE                  BN150         2U       15.0         ORANGE MIDNIGHTS   \n",
       "EASTERN FREESTATE     PP100         4M       10.0  POTATO (WASHED) MONDIAL   \n",
       "CAPE                  EC120         1L       12.0           APPLE BRAEBURN   \n",
       "KWAZULU NATAL         PP100         3M       10.0    POTATO VALOR (WASHED)   \n",
       "CAPE                  AZ035         1S        3.5            ORANGE NAVELS   \n",
       "\n",
       "                         Date  Low_Price  High_Price  Sales_Total  \\\n",
       "Province                                                            \n",
       "CAPE               2020-09-01       55.0        55.0      -2805.0   \n",
       "EASTERN FREESTATE  2020-05-04        5.0         5.0      -1080.0   \n",
       "CAPE               2020-07-20       64.0        80.0       -944.0   \n",
       "KWAZULU NATAL      2019-12-23       25.0        32.0      -9161.0   \n",
       "CAPE               2020-07-15       10.0        12.0      -6600.0   \n",
       "\n",
       "                   Total_Qty_Sold  Total_Kg_Sold  Stock_On_Hand  \\\n",
       "Province                                                          \n",
       "CAPE                          -51         -765.0             51   \n",
       "EASTERN FREESTATE               0            0.0              0   \n",
       "CAPE                            1           12.0              0   \n",
       "KWAZULU NATAL                -297        -2970.0            772   \n",
       "CAPE                         -200         -700.0            696   \n",
       "\n",
       "                   avg_price_per_kg  \n",
       "Province                             \n",
       "CAPE                           3.67  \n",
       "EASTERN FREESTATE              -inf  \n",
       "CAPE                         -78.67  \n",
       "KWAZULU NATAL                  3.08  \n",
       "CAPE                           9.43  "
      ],
      "text/html": "<div>\n<style scoped>\n    .dataframe tbody tr th:only-of-type {\n        vertical-align: middle;\n    }\n\n    .dataframe tbody tr th {\n        vertical-align: top;\n    }\n\n    .dataframe thead th {\n        text-align: right;\n    }\n</style>\n<table border=\"1\" class=\"dataframe\">\n  <thead>\n    <tr style=\"text-align: right;\">\n      <th></th>\n      <th>Container</th>\n      <th>Size_Grade</th>\n      <th>Weight_Kg</th>\n      <th>Commodities</th>\n      <th>Date</th>\n      <th>Low_Price</th>\n      <th>High_Price</th>\n      <th>Sales_Total</th>\n      <th>Total_Qty_Sold</th>\n      <th>Total_Kg_Sold</th>\n      <th>Stock_On_Hand</th>\n      <th>avg_price_per_kg</th>\n    </tr>\n    <tr>\n      <th>Province</th>\n      <th></th>\n      <th></th>\n      <th></th>\n      <th></th>\n      <th></th>\n      <th></th>\n      <th></th>\n      <th></th>\n      <th></th>\n      <th></th>\n      <th></th>\n      <th></th>\n    </tr>\n  </thead>\n  <tbody>\n    <tr>\n      <th>CAPE</th>\n      <td>BN150</td>\n      <td>2U</td>\n      <td>15.0</td>\n      <td>ORANGE MIDNIGHTS</td>\n      <td>2020-09-01</td>\n      <td>55.0</td>\n      <td>55.0</td>\n      <td>-2805.0</td>\n      <td>-51</td>\n      <td>-765.0</td>\n      <td>51</td>\n      <td>3.67</td>\n    </tr>\n    <tr>\n      <th>EASTERN FREESTATE</th>\n      <td>PP100</td>\n      <td>4M</td>\n      <td>10.0</td>\n      <td>POTATO (WASHED) MONDIAL</td>\n      <td>2020-05-04</td>\n      <td>5.0</td>\n      <td>5.0</td>\n      <td>-1080.0</td>\n      <td>0</td>\n      <td>0.0</td>\n      <td>0</td>\n      <td>-inf</td>\n    </tr>\n    <tr>\n      <th>CAPE</th>\n      <td>EC120</td>\n      <td>1L</td>\n      <td>12.0</td>\n      <td>APPLE BRAEBURN</td>\n      <td>2020-07-20</td>\n      <td>64.0</td>\n      <td>80.0</td>\n      <td>-944.0</td>\n      <td>1</td>\n      <td>12.0</td>\n      <td>0</td>\n      <td>-78.67</td>\n    </tr>\n    <tr>\n      <th>KWAZULU NATAL</th>\n      <td>PP100</td>\n      <td>3M</td>\n      <td>10.0</td>\n      <td>POTATO VALOR (WASHED)</td>\n      <td>2019-12-23</td>\n      <td>25.0</td>\n      <td>32.0</td>\n      <td>-9161.0</td>\n      <td>-297</td>\n      <td>-2970.0</td>\n      <td>772</td>\n      <td>3.08</td>\n    </tr>\n    <tr>\n      <th>CAPE</th>\n      <td>AZ035</td>\n      <td>1S</td>\n      <td>3.5</td>\n      <td>ORANGE NAVELS</td>\n      <td>2020-07-15</td>\n      <td>10.0</td>\n      <td>12.0</td>\n      <td>-6600.0</td>\n      <td>-200</td>\n      <td>-700.0</td>\n      <td>696</td>\n      <td>9.43</td>\n    </tr>\n  </tbody>\n</table>\n</div>"
     },
     "metadata": {},
     "execution_count": 30
    }
   ],
   "source": [
    "#Data in train data where sales total is a negative value\n",
    "neg_cols = ['Sales_Total', 'Total_Qty_Sold', 'Total_Kg_Sold', 'Stock_On_Hand']\n",
    "\n",
    "df_train[df_train['Sales_Total'] < 0].head()\n",
    "\n",
    "#Fill the column names, or loop through the columns list to see which rows have negative valus"
   ]
  },
  {
   "cell_type": "code",
   "execution_count": 33,
   "metadata": {},
   "outputs": [
    {
     "output_type": "execute_result",
     "data": {
      "text/plain": [
       "                     Container Size_Grade  Weight_Kg   Commodities  \\\n",
       "Province                                                             \n",
       "WESTERN CAPE - CERES     AF070         2M       7.00  ONIONS BROWN   \n",
       "W.CAPE-BERGRIVER ETC     M4183         1S      18.30    APPLE GALA   \n",
       "NATAL                    A1001         1M       0.12  GARLIC LOCAL   \n",
       "NATAL                    A1001         1M       0.12  GARLIC LOCAL   \n",
       "\n",
       "                            Date  Low_Price  High_Price  Sales_Total  \\\n",
       "Province                                                               \n",
       "WESTERN CAPE - CERES  2020-05-09       54.0        54.0      10780.0   \n",
       "W.CAPE-BERGRIVER ETC  2020-06-13      100.0       100.0       1820.0   \n",
       "NATAL                 2020-07-06       50.0       200.0        400.0   \n",
       "NATAL                 2020-06-27      150.0       150.0        150.0   \n",
       "\n",
       "                      Total_Qty_Sold  Total_Kg_Sold  Stock_On_Hand  \\\n",
       "Province                                                             \n",
       "WESTERN CAPE - CERES               0           0.00              0   \n",
       "W.CAPE-BERGRIVER ETC               0           0.00              0   \n",
       "NATAL                              3           0.36             49   \n",
       "NATAL                              1           0.12             48   \n",
       "\n",
       "                      avg_price_per_kg  \n",
       "Province                                \n",
       "WESTERN CAPE - CERES               inf  \n",
       "W.CAPE-BERGRIVER ETC               inf  \n",
       "NATAL                          1111.11  \n",
       "NATAL                          1250.00  "
      ],
      "text/html": "<div>\n<style scoped>\n    .dataframe tbody tr th:only-of-type {\n        vertical-align: middle;\n    }\n\n    .dataframe tbody tr th {\n        vertical-align: top;\n    }\n\n    .dataframe thead th {\n        text-align: right;\n    }\n</style>\n<table border=\"1\" class=\"dataframe\">\n  <thead>\n    <tr style=\"text-align: right;\">\n      <th></th>\n      <th>Container</th>\n      <th>Size_Grade</th>\n      <th>Weight_Kg</th>\n      <th>Commodities</th>\n      <th>Date</th>\n      <th>Low_Price</th>\n      <th>High_Price</th>\n      <th>Sales_Total</th>\n      <th>Total_Qty_Sold</th>\n      <th>Total_Kg_Sold</th>\n      <th>Stock_On_Hand</th>\n      <th>avg_price_per_kg</th>\n    </tr>\n    <tr>\n      <th>Province</th>\n      <th></th>\n      <th></th>\n      <th></th>\n      <th></th>\n      <th></th>\n      <th></th>\n      <th></th>\n      <th></th>\n      <th></th>\n      <th></th>\n      <th></th>\n      <th></th>\n    </tr>\n  </thead>\n  <tbody>\n    <tr>\n      <th>WESTERN CAPE - CERES</th>\n      <td>AF070</td>\n      <td>2M</td>\n      <td>7.00</td>\n      <td>ONIONS BROWN</td>\n      <td>2020-05-09</td>\n      <td>54.0</td>\n      <td>54.0</td>\n      <td>10780.0</td>\n      <td>0</td>\n      <td>0.00</td>\n      <td>0</td>\n      <td>inf</td>\n    </tr>\n    <tr>\n      <th>W.CAPE-BERGRIVER ETC</th>\n      <td>M4183</td>\n      <td>1S</td>\n      <td>18.30</td>\n      <td>APPLE GALA</td>\n      <td>2020-06-13</td>\n      <td>100.0</td>\n      <td>100.0</td>\n      <td>1820.0</td>\n      <td>0</td>\n      <td>0.00</td>\n      <td>0</td>\n      <td>inf</td>\n    </tr>\n    <tr>\n      <th>NATAL</th>\n      <td>A1001</td>\n      <td>1M</td>\n      <td>0.12</td>\n      <td>GARLIC LOCAL</td>\n      <td>2020-07-06</td>\n      <td>50.0</td>\n      <td>200.0</td>\n      <td>400.0</td>\n      <td>3</td>\n      <td>0.36</td>\n      <td>49</td>\n      <td>1111.11</td>\n    </tr>\n    <tr>\n      <th>NATAL</th>\n      <td>A1001</td>\n      <td>1M</td>\n      <td>0.12</td>\n      <td>GARLIC LOCAL</td>\n      <td>2020-06-27</td>\n      <td>150.0</td>\n      <td>150.0</td>\n      <td>150.0</td>\n      <td>1</td>\n      <td>0.12</td>\n      <td>48</td>\n      <td>1250.00</td>\n    </tr>\n  </tbody>\n</table>\n</div>"
     },
     "metadata": {},
     "execution_count": 33
    }
   ],
   "source": [
    "# Lets look at inf values\n",
    "\n",
    "df_train[(df_train['avg_price_per_kg']) > 1000]"
   ]
  },
  {
   "cell_type": "markdown",
   "metadata": {},
   "source": [
    "It seems that the erratic values (negative values and infinity values) are not a concern of the APPLE GOLDEN DELICIOUS.\n",
    "\n",
    "The simplest solution would be to subset our data so that we only look at the APPLE GOLDEN DELICIOUS.\n",
    "\n",
    "A caveat in this case may be that the price of other commodities may affect the price of APPLE GOLDEN DEWLICIOUS, therefore we may not simply exclude the rest of the data"
   ]
  },
  {
   "cell_type": "code",
   "execution_count": 35,
   "metadata": {},
   "outputs": [
    {
     "output_type": "execute_result",
     "data": {
      "text/plain": [
       "(10, 12)"
      ]
     },
     "metadata": {},
     "execution_count": 35
    }
   ],
   "source": [
    "# But let's subset it anyways. APLE GOLDEN DELICIOUS = AGD\n",
    "\n",
    "df_AGD = df_train[df_train['Commodities'] == 'APPLE GOLDEN DELICIOUS']\n",
    "df_AGD.head(10).shape"
   ]
  },
  {
   "cell_type": "code",
   "execution_count": 21,
   "metadata": {},
   "outputs": [
    {
     "output_type": "execute_result",
     "data": {
      "text/plain": [
       "       Weight_Kg  Low_Price  High_Price  Sales_Total  Total_Qty_Sold  \\\n",
       "count    1952.00    1952.00     1952.00      1952.00         1952.00   \n",
       "mean       40.46     174.31      215.65     20053.53          174.51   \n",
       "std        99.66     373.55      433.55     39005.07          308.81   \n",
       "min         3.00       2.00        5.00         5.00            1.00   \n",
       "25%         9.00      50.00       60.00      1325.00           12.00   \n",
       "50%        12.00      80.00      108.00      5495.00           64.00   \n",
       "75%        18.30     127.25      160.00     21082.50          200.00   \n",
       "max       400.00    2300.00     3300.00    369464.00         4237.00   \n",
       "\n",
       "       Total_Kg_Sold  Stock_On_Hand  avg_price_per_kg  \n",
       "count        1952.00        1952.00           1952.00  \n",
       "mean         2960.18         408.39              6.78  \n",
       "std          6097.42         724.45              2.25  \n",
       "min             3.00           0.00              0.25  \n",
       "25%           219.60           9.00              5.46  \n",
       "50%           853.50         126.50              6.67  \n",
       "75%          3093.52         468.00              8.28  \n",
       "max         74000.00        6400.00             21.24  "
      ],
      "text/html": "<div>\n<style scoped>\n    .dataframe tbody tr th:only-of-type {\n        vertical-align: middle;\n    }\n\n    .dataframe tbody tr th {\n        vertical-align: top;\n    }\n\n    .dataframe thead th {\n        text-align: right;\n    }\n</style>\n<table border=\"1\" class=\"dataframe\">\n  <thead>\n    <tr style=\"text-align: right;\">\n      <th></th>\n      <th>Weight_Kg</th>\n      <th>Low_Price</th>\n      <th>High_Price</th>\n      <th>Sales_Total</th>\n      <th>Total_Qty_Sold</th>\n      <th>Total_Kg_Sold</th>\n      <th>Stock_On_Hand</th>\n      <th>avg_price_per_kg</th>\n    </tr>\n  </thead>\n  <tbody>\n    <tr>\n      <th>count</th>\n      <td>1952.00</td>\n      <td>1952.00</td>\n      <td>1952.00</td>\n      <td>1952.00</td>\n      <td>1952.00</td>\n      <td>1952.00</td>\n      <td>1952.00</td>\n      <td>1952.00</td>\n    </tr>\n    <tr>\n      <th>mean</th>\n      <td>40.46</td>\n      <td>174.31</td>\n      <td>215.65</td>\n      <td>20053.53</td>\n      <td>174.51</td>\n      <td>2960.18</td>\n      <td>408.39</td>\n      <td>6.78</td>\n    </tr>\n    <tr>\n      <th>std</th>\n      <td>99.66</td>\n      <td>373.55</td>\n      <td>433.55</td>\n      <td>39005.07</td>\n      <td>308.81</td>\n      <td>6097.42</td>\n      <td>724.45</td>\n      <td>2.25</td>\n    </tr>\n    <tr>\n      <th>min</th>\n      <td>3.00</td>\n      <td>2.00</td>\n      <td>5.00</td>\n      <td>5.00</td>\n      <td>1.00</td>\n      <td>3.00</td>\n      <td>0.00</td>\n      <td>0.25</td>\n    </tr>\n    <tr>\n      <th>25%</th>\n      <td>9.00</td>\n      <td>50.00</td>\n      <td>60.00</td>\n      <td>1325.00</td>\n      <td>12.00</td>\n      <td>219.60</td>\n      <td>9.00</td>\n      <td>5.46</td>\n    </tr>\n    <tr>\n      <th>50%</th>\n      <td>12.00</td>\n      <td>80.00</td>\n      <td>108.00</td>\n      <td>5495.00</td>\n      <td>64.00</td>\n      <td>853.50</td>\n      <td>126.50</td>\n      <td>6.67</td>\n    </tr>\n    <tr>\n      <th>75%</th>\n      <td>18.30</td>\n      <td>127.25</td>\n      <td>160.00</td>\n      <td>21082.50</td>\n      <td>200.00</td>\n      <td>3093.52</td>\n      <td>468.00</td>\n      <td>8.28</td>\n    </tr>\n    <tr>\n      <th>max</th>\n      <td>400.00</td>\n      <td>2300.00</td>\n      <td>3300.00</td>\n      <td>369464.00</td>\n      <td>4237.00</td>\n      <td>74000.00</td>\n      <td>6400.00</td>\n      <td>21.24</td>\n    </tr>\n  </tbody>\n</table>\n</div>"
     },
     "metadata": {},
     "execution_count": 21
    }
   ],
   "source": [
    "round(df_AGD.describe(), 2)"
   ]
  },
  {
   "cell_type": "code",
   "execution_count": 37,
   "metadata": {},
   "outputs": [
    {
     "output_type": "stream",
     "name": "stderr",
     "text": [
      "D:\\EXPLORE\\Software\\Software\\lib\\site-packages\\seaborn\\distributions.py:2557: FutureWarning: `distplot` is a deprecated function and will be removed in a future version. Please adapt your code to use either `displot` (a figure-level function with similar flexibility) or `histplot` (an axes-level function for histograms).\n  warnings.warn(msg, FutureWarning)\n"
     ]
    },
    {
     "output_type": "execute_result",
     "data": {
      "text/plain": [
       "<AxesSubplot:xlabel='avg_price_per_kg', ylabel='Density'>"
      ]
     },
     "metadata": {},
     "execution_count": 37
    },
    {
     "output_type": "display_data",
     "data": {
      "text/plain": "<Figure size 432x288 with 1 Axes>",
      "image/svg+xml": "<?xml version=\"1.0\" encoding=\"utf-8\" standalone=\"no\"?>\r\n<!DOCTYPE svg PUBLIC \"-//W3C//DTD SVG 1.1//EN\"\r\n  \"http://www.w3.org/Graphics/SVG/1.1/DTD/svg11.dtd\">\r\n<!-- Created with matplotlib (https://matplotlib.org/) -->\r\n<svg height=\"262.474375pt\" version=\"1.1\" viewBox=\"0 0 392.14375 262.474375\" width=\"392.14375pt\" xmlns=\"http://www.w3.org/2000/svg\" xmlns:xlink=\"http://www.w3.org/1999/xlink\">\r\n <metadata>\r\n  <rdf:RDF xmlns:cc=\"http://creativecommons.org/ns#\" xmlns:dc=\"http://purl.org/dc/elements/1.1/\" xmlns:rdf=\"http://www.w3.org/1999/02/22-rdf-syntax-ns#\">\r\n   <cc:Work>\r\n    <dc:type rdf:resource=\"http://purl.org/dc/dcmitype/StillImage\"/>\r\n    <dc:date>2021-05-11T11:22:27.999488</dc:date>\r\n    <dc:format>image/svg+xml</dc:format>\r\n    <dc:creator>\r\n     <cc:Agent>\r\n      <dc:title>Matplotlib v3.3.2, https://matplotlib.org/</dc:title>\r\n     </cc:Agent>\r\n    </dc:creator>\r\n   </cc:Work>\r\n  </rdf:RDF>\r\n </metadata>\r\n <defs>\r\n  <style type=\"text/css\">*{stroke-linecap:butt;stroke-linejoin:round;}</style>\r\n </defs>\r\n <g id=\"figure_1\">\r\n  <g id=\"patch_1\">\r\n   <path d=\"M 0 262.474375 \r\nL 392.14375 262.474375 \r\nL 392.14375 0 \r\nL 0 0 \r\nz\r\n\" style=\"fill:none;\"/>\r\n  </g>\r\n  <g id=\"axes_1\">\r\n   <g id=\"patch_2\">\r\n    <path d=\"M 50.14375 224.64 \r\nL 384.94375 224.64 \r\nL 384.94375 7.2 \r\nL 50.14375 7.2 \r\nz\r\n\" style=\"fill:#ffffff;\"/>\r\n   </g>\r\n   <g id=\"patch_3\">\r\n    <path clip-path=\"url(#p8a0d98664d)\" d=\"M 84.196931 224.64 \r\nL 89.871264 224.64 \r\nL 89.871264 221.335441 \r\nL 84.196931 221.335441 \r\nz\r\n\" style=\"fill:#1f77b4;opacity:0.4;\"/>\r\n   </g>\r\n   <g id=\"patch_4\">\r\n    <path clip-path=\"url(#p8a0d98664d)\" d=\"M 89.871264 224.64 \r\nL 95.545596 224.64 \r\nL 95.545596 208.117204 \r\nL 89.871264 208.117204 \r\nz\r\n\" style=\"fill:#1f77b4;opacity:0.4;\"/>\r\n   </g>\r\n   <g id=\"patch_5\">\r\n    <path clip-path=\"url(#p8a0d98664d)\" d=\"M 95.545596 224.64 \r\nL 101.219929 224.64 \r\nL 101.219929 209.218723 \r\nL 95.545596 209.218723 \r\nz\r\n\" style=\"fill:#1f77b4;opacity:0.4;\"/>\r\n   </g>\r\n   <g id=\"patch_6\">\r\n    <path clip-path=\"url(#p8a0d98664d)\" d=\"M 101.219929 224.64 \r\nL 106.894262 224.64 \r\nL 106.894262 197.102006 \r\nL 101.219929 197.102006 \r\nz\r\n\" style=\"fill:#1f77b4;opacity:0.4;\"/>\r\n   </g>\r\n   <g id=\"patch_7\">\r\n    <path clip-path=\"url(#p8a0d98664d)\" d=\"M 106.894262 224.64 \r\nL 112.568595 224.64 \r\nL 112.568595 198.203526 \r\nL 106.894262 198.203526 \r\nz\r\n\" style=\"fill:#1f77b4;opacity:0.4;\"/>\r\n   </g>\r\n   <g id=\"patch_8\">\r\n    <path clip-path=\"url(#p8a0d98664d)\" d=\"M 112.568595 224.64 \r\nL 118.242927 224.64 \r\nL 118.242927 204.812644 \r\nL 112.568595 204.812644 \r\nz\r\n\" style=\"fill:#1f77b4;opacity:0.4;\"/>\r\n   </g>\r\n   <g id=\"patch_9\">\r\n    <path clip-path=\"url(#p8a0d98664d)\" d=\"M 118.242927 224.64 \r\nL 123.91726 224.64 \r\nL 123.91726 191.594407 \r\nL 118.242927 191.594407 \r\nz\r\n\" style=\"fill:#1f77b4;opacity:0.4;\"/>\r\n   </g>\r\n   <g id=\"patch_10\">\r\n    <path clip-path=\"url(#p8a0d98664d)\" d=\"M 123.91726 224.64 \r\nL 129.591593 224.64 \r\nL 129.591593 198.203526 \r\nL 123.91726 198.203526 \r\nz\r\n\" style=\"fill:#1f77b4;opacity:0.4;\"/>\r\n   </g>\r\n   <g id=\"patch_11\">\r\n    <path clip-path=\"url(#p8a0d98664d)\" d=\"M 129.591593 224.64 \r\nL 135.265925 224.64 \r\nL 135.265925 172.868571 \r\nL 129.591593 172.868571 \r\nz\r\n\" style=\"fill:#1f77b4;opacity:0.4;\"/>\r\n   </g>\r\n   <g id=\"patch_12\">\r\n    <path clip-path=\"url(#p8a0d98664d)\" d=\"M 135.265925 224.64 \r\nL 140.940258 224.64 \r\nL 140.940258 80.340912 \r\nL 135.265925 80.340912 \r\nz\r\n\" style=\"fill:#1f77b4;opacity:0.4;\"/>\r\n   </g>\r\n   <g id=\"patch_13\">\r\n    <path clip-path=\"url(#p8a0d98664d)\" d=\"M 140.940258 224.64 \r\nL 146.614591 224.64 \r\nL 146.614591 123.300182 \r\nL 140.940258 123.300182 \r\nz\r\n\" style=\"fill:#1f77b4;opacity:0.4;\"/>\r\n   </g>\r\n   <g id=\"patch_14\">\r\n    <path clip-path=\"url(#p8a0d98664d)\" d=\"M 146.614591 224.64 \r\nL 152.288924 224.64 \r\nL 152.288924 39.584681 \r\nL 146.614591 39.584681 \r\nz\r\n\" style=\"fill:#1f77b4;opacity:0.4;\"/>\r\n   </g>\r\n   <g id=\"patch_15\">\r\n    <path clip-path=\"url(#p8a0d98664d)\" d=\"M 152.288924 224.64 \r\nL 157.963256 224.64 \r\nL 157.963256 71.528754 \r\nL 152.288924 71.528754 \r\nz\r\n\" style=\"fill:#1f77b4;opacity:0.4;\"/>\r\n   </g>\r\n   <g id=\"patch_16\">\r\n    <path clip-path=\"url(#p8a0d98664d)\" d=\"M 157.963256 224.64 \r\nL 163.637589 224.64 \r\nL 163.637589 63.818116 \r\nL 157.963256 63.818116 \r\nz\r\n\" style=\"fill:#1f77b4;opacity:0.4;\"/>\r\n   </g>\r\n   <g id=\"patch_17\">\r\n    <path clip-path=\"url(#p8a0d98664d)\" d=\"M 163.637589 224.64 \r\nL 169.311922 224.64 \r\nL 169.311922 17.554286 \r\nL 163.637589 17.554286 \r\nz\r\n\" style=\"fill:#1f77b4;opacity:0.4;\"/>\r\n   </g>\r\n   <g id=\"patch_18\">\r\n    <path clip-path=\"url(#p8a0d98664d)\" d=\"M 169.311922 224.64 \r\nL 174.986255 224.64 \r\nL 174.986255 69.325714 \r\nL 169.311922 69.325714 \r\nz\r\n\" style=\"fill:#1f77b4;opacity:0.4;\"/>\r\n   </g>\r\n   <g id=\"patch_19\">\r\n    <path clip-path=\"url(#p8a0d98664d)\" d=\"M 174.986255 224.64 \r\nL 180.660587 224.64 \r\nL 180.660587 75.934833 \r\nL 174.986255 75.934833 \r\nz\r\n\" style=\"fill:#1f77b4;opacity:0.4;\"/>\r\n   </g>\r\n   <g id=\"patch_20\">\r\n    <path clip-path=\"url(#p8a0d98664d)\" d=\"M 180.660587 224.64 \r\nL 186.33492 224.64 \r\nL 186.33492 81.442432 \r\nL 180.660587 81.442432 \r\nz\r\n\" style=\"fill:#1f77b4;opacity:0.4;\"/>\r\n   </g>\r\n   <g id=\"patch_21\">\r\n    <path clip-path=\"url(#p8a0d98664d)\" d=\"M 186.33492 224.64 \r\nL 192.009253 224.64 \r\nL 192.009253 127.706261 \r\nL 186.33492 127.706261 \r\nz\r\n\" style=\"fill:#1f77b4;opacity:0.4;\"/>\r\n   </g>\r\n   <g id=\"patch_22\">\r\n    <path clip-path=\"url(#p8a0d98664d)\" d=\"M 192.009253 224.64 \r\nL 197.683585 224.64 \r\nL 197.683585 106.777386 \r\nL 192.009253 106.777386 \r\nz\r\n\" style=\"fill:#1f77b4;opacity:0.4;\"/>\r\n   </g>\r\n   <g id=\"patch_23\">\r\n    <path clip-path=\"url(#p8a0d98664d)\" d=\"M 197.683585 224.64 \r\nL 203.357918 224.64 \r\nL 203.357918 129.909301 \r\nL 197.683585 129.909301 \r\nz\r\n\" style=\"fill:#1f77b4;opacity:0.4;\"/>\r\n   </g>\r\n   <g id=\"patch_24\">\r\n    <path clip-path=\"url(#p8a0d98664d)\" d=\"M 203.357918 224.64 \r\nL 209.032251 224.64 \r\nL 209.032251 114.488024 \r\nL 203.357918 114.488024 \r\nz\r\n\" style=\"fill:#1f77b4;opacity:0.4;\"/>\r\n   </g>\r\n   <g id=\"patch_25\">\r\n    <path clip-path=\"url(#p8a0d98664d)\" d=\"M 209.032251 224.64 \r\nL 214.706584 224.64 \r\nL 214.706584 191.594407 \r\nL 209.032251 191.594407 \r\nz\r\n\" style=\"fill:#1f77b4;opacity:0.4;\"/>\r\n   </g>\r\n   <g id=\"patch_26\">\r\n    <path clip-path=\"url(#p8a0d98664d)\" d=\"M 214.706584 224.64 \r\nL 220.380916 224.64 \r\nL 220.380916 189.391368 \r\nL 214.706584 189.391368 \r\nz\r\n\" style=\"fill:#1f77b4;opacity:0.4;\"/>\r\n   </g>\r\n   <g id=\"patch_27\">\r\n    <path clip-path=\"url(#p8a0d98664d)\" d=\"M 220.380916 224.64 \r\nL 226.055249 224.64 \r\nL 226.055249 211.421763 \r\nL 220.380916 211.421763 \r\nz\r\n\" style=\"fill:#1f77b4;opacity:0.4;\"/>\r\n   </g>\r\n   <g id=\"patch_28\">\r\n    <path clip-path=\"url(#p8a0d98664d)\" d=\"M 226.055249 224.64 \r\nL 231.729582 224.64 \r\nL 231.729582 222.43696 \r\nL 226.055249 222.43696 \r\nz\r\n\" style=\"fill:#1f77b4;opacity:0.4;\"/>\r\n   </g>\r\n   <g id=\"patch_29\">\r\n    <path clip-path=\"url(#p8a0d98664d)\" d=\"M 231.729582 224.64 \r\nL 237.403915 224.64 \r\nL 237.403915 210.320243 \r\nL 231.729582 210.320243 \r\nz\r\n\" style=\"fill:#1f77b4;opacity:0.4;\"/>\r\n   </g>\r\n   <g id=\"patch_30\">\r\n    <path clip-path=\"url(#p8a0d98664d)\" d=\"M 237.403915 224.64 \r\nL 243.078247 224.64 \r\nL 243.078247 223.53848 \r\nL 237.403915 223.53848 \r\nz\r\n\" style=\"fill:#1f77b4;opacity:0.4;\"/>\r\n   </g>\r\n   <g id=\"patch_31\">\r\n    <path clip-path=\"url(#p8a0d98664d)\" d=\"M 243.078247 224.64 \r\nL 248.75258 224.64 \r\nL 248.75258 223.53848 \r\nL 243.078247 223.53848 \r\nz\r\n\" style=\"fill:#1f77b4;opacity:0.4;\"/>\r\n   </g>\r\n   <g id=\"patch_32\">\r\n    <path clip-path=\"url(#p8a0d98664d)\" d=\"M 248.75258 224.64 \r\nL 254.426913 224.64 \r\nL 254.426913 224.64 \r\nL 248.75258 224.64 \r\nz\r\n\" style=\"fill:#1f77b4;opacity:0.4;\"/>\r\n   </g>\r\n   <g id=\"patch_33\">\r\n    <path clip-path=\"url(#p8a0d98664d)\" d=\"M 254.426913 224.64 \r\nL 260.101245 224.64 \r\nL 260.101245 221.335441 \r\nL 254.426913 221.335441 \r\nz\r\n\" style=\"fill:#1f77b4;opacity:0.4;\"/>\r\n   </g>\r\n   <g id=\"patch_34\">\r\n    <path clip-path=\"url(#p8a0d98664d)\" d=\"M 260.101245 224.64 \r\nL 265.775578 224.64 \r\nL 265.775578 219.132401 \r\nL 260.101245 219.132401 \r\nz\r\n\" style=\"fill:#1f77b4;opacity:0.4;\"/>\r\n   </g>\r\n   <g id=\"patch_35\">\r\n    <path clip-path=\"url(#p8a0d98664d)\" d=\"M 265.775578 224.64 \r\nL 271.449911 224.64 \r\nL 271.449911 224.64 \r\nL 265.775578 224.64 \r\nz\r\n\" style=\"fill:#1f77b4;opacity:0.4;\"/>\r\n   </g>\r\n   <g id=\"patch_36\">\r\n    <path clip-path=\"url(#p8a0d98664d)\" d=\"M 271.449911 224.64 \r\nL 277.124244 224.64 \r\nL 277.124244 223.53848 \r\nL 271.449911 223.53848 \r\nz\r\n\" style=\"fill:#1f77b4;opacity:0.4;\"/>\r\n   </g>\r\n   <g id=\"patch_37\">\r\n    <path clip-path=\"url(#p8a0d98664d)\" d=\"M 277.124244 224.64 \r\nL 282.798576 224.64 \r\nL 282.798576 224.64 \r\nL 277.124244 224.64 \r\nz\r\n\" style=\"fill:#1f77b4;opacity:0.4;\"/>\r\n   </g>\r\n   <g id=\"patch_38\">\r\n    <path clip-path=\"url(#p8a0d98664d)\" d=\"M 282.798576 224.64 \r\nL 288.472909 224.64 \r\nL 288.472909 224.64 \r\nL 282.798576 224.64 \r\nz\r\n\" style=\"fill:#1f77b4;opacity:0.4;\"/>\r\n   </g>\r\n   <g id=\"patch_39\">\r\n    <path clip-path=\"url(#p8a0d98664d)\" d=\"M 288.472909 224.64 \r\nL 294.147242 224.64 \r\nL 294.147242 224.64 \r\nL 288.472909 224.64 \r\nz\r\n\" style=\"fill:#1f77b4;opacity:0.4;\"/>\r\n   </g>\r\n   <g id=\"patch_40\">\r\n    <path clip-path=\"url(#p8a0d98664d)\" d=\"M 294.147242 224.64 \r\nL 299.821575 224.64 \r\nL 299.821575 224.64 \r\nL 294.147242 224.64 \r\nz\r\n\" style=\"fill:#1f77b4;opacity:0.4;\"/>\r\n   </g>\r\n   <g id=\"patch_41\">\r\n    <path clip-path=\"url(#p8a0d98664d)\" d=\"M 299.821575 224.64 \r\nL 305.495907 224.64 \r\nL 305.495907 224.64 \r\nL 299.821575 224.64 \r\nz\r\n\" style=\"fill:#1f77b4;opacity:0.4;\"/>\r\n   </g>\r\n   <g id=\"patch_42\">\r\n    <path clip-path=\"url(#p8a0d98664d)\" d=\"M 305.495907 224.64 \r\nL 311.17024 224.64 \r\nL 311.17024 224.64 \r\nL 305.495907 224.64 \r\nz\r\n\" style=\"fill:#1f77b4;opacity:0.4;\"/>\r\n   </g>\r\n   <g id=\"patch_43\">\r\n    <path clip-path=\"url(#p8a0d98664d)\" d=\"M 311.17024 224.64 \r\nL 316.844573 224.64 \r\nL 316.844573 224.64 \r\nL 311.17024 224.64 \r\nz\r\n\" style=\"fill:#1f77b4;opacity:0.4;\"/>\r\n   </g>\r\n   <g id=\"patch_44\">\r\n    <path clip-path=\"url(#p8a0d98664d)\" d=\"M 316.844573 224.64 \r\nL 322.518905 224.64 \r\nL 322.518905 224.64 \r\nL 316.844573 224.64 \r\nz\r\n\" style=\"fill:#1f77b4;opacity:0.4;\"/>\r\n   </g>\r\n   <g id=\"patch_45\">\r\n    <path clip-path=\"url(#p8a0d98664d)\" d=\"M 322.518905 224.64 \r\nL 328.193238 224.64 \r\nL 328.193238 224.64 \r\nL 322.518905 224.64 \r\nz\r\n\" style=\"fill:#1f77b4;opacity:0.4;\"/>\r\n   </g>\r\n   <g id=\"patch_46\">\r\n    <path clip-path=\"url(#p8a0d98664d)\" d=\"M 328.193238 224.64 \r\nL 333.867571 224.64 \r\nL 333.867571 224.64 \r\nL 328.193238 224.64 \r\nz\r\n\" style=\"fill:#1f77b4;opacity:0.4;\"/>\r\n   </g>\r\n   <g id=\"patch_47\">\r\n    <path clip-path=\"url(#p8a0d98664d)\" d=\"M 333.867571 224.64 \r\nL 339.541904 224.64 \r\nL 339.541904 224.64 \r\nL 333.867571 224.64 \r\nz\r\n\" style=\"fill:#1f77b4;opacity:0.4;\"/>\r\n   </g>\r\n   <g id=\"patch_48\">\r\n    <path clip-path=\"url(#p8a0d98664d)\" d=\"M 339.541904 224.64 \r\nL 345.216236 224.64 \r\nL 345.216236 224.64 \r\nL 339.541904 224.64 \r\nz\r\n\" style=\"fill:#1f77b4;opacity:0.4;\"/>\r\n   </g>\r\n   <g id=\"patch_49\">\r\n    <path clip-path=\"url(#p8a0d98664d)\" d=\"M 345.216236 224.64 \r\nL 350.890569 224.64 \r\nL 350.890569 223.53848 \r\nL 345.216236 223.53848 \r\nz\r\n\" style=\"fill:#1f77b4;opacity:0.4;\"/>\r\n   </g>\r\n   <g id=\"matplotlib.axis_1\">\r\n    <g id=\"xtick_1\">\r\n     <g id=\"line2d_1\">\r\n      <defs>\r\n       <path d=\"M 0 0 \r\nL 0 3.5 \r\n\" id=\"me5aff4e3b2\" style=\"stroke:#000000;stroke-width:0.8;\"/>\r\n      </defs>\r\n      <g>\r\n       <use style=\"stroke:#000000;stroke-width:0.8;\" x=\"81.020494\" xlink:href=\"#me5aff4e3b2\" y=\"224.64\"/>\r\n      </g>\r\n     </g>\r\n     <g id=\"text_1\">\r\n      <!-- 0 -->\r\n      <g transform=\"translate(77.839244 239.238438)scale(0.1 -0.1)\">\r\n       <defs>\r\n        <path d=\"M 31.78125 66.40625 \r\nQ 24.171875 66.40625 20.328125 58.90625 \r\nQ 16.5 51.421875 16.5 36.375 \r\nQ 16.5 21.390625 20.328125 13.890625 \r\nQ 24.171875 6.390625 31.78125 6.390625 \r\nQ 39.453125 6.390625 43.28125 13.890625 \r\nQ 47.125 21.390625 47.125 36.375 \r\nQ 47.125 51.421875 43.28125 58.90625 \r\nQ 39.453125 66.40625 31.78125 66.40625 \r\nz\r\nM 31.78125 74.21875 \r\nQ 44.046875 74.21875 50.515625 64.515625 \r\nQ 56.984375 54.828125 56.984375 36.375 \r\nQ 56.984375 17.96875 50.515625 8.265625 \r\nQ 44.046875 -1.421875 31.78125 -1.421875 \r\nQ 19.53125 -1.421875 13.0625 8.265625 \r\nQ 6.59375 17.96875 6.59375 36.375 \r\nQ 6.59375 54.828125 13.0625 64.515625 \r\nQ 19.53125 74.21875 31.78125 74.21875 \r\nz\r\n\" id=\"DejaVuSans-48\"/>\r\n       </defs>\r\n       <use xlink:href=\"#DejaVuSans-48\"/>\r\n      </g>\r\n     </g>\r\n    </g>\r\n    <g id=\"xtick_2\">\r\n     <g id=\"line2d_2\">\r\n      <g>\r\n       <use style=\"stroke:#000000;stroke-width:0.8;\" x=\"144.549231\" xlink:href=\"#me5aff4e3b2\" y=\"224.64\"/>\r\n      </g>\r\n     </g>\r\n     <g id=\"text_2\">\r\n      <!-- 5 -->\r\n      <g transform=\"translate(141.367981 239.238438)scale(0.1 -0.1)\">\r\n       <defs>\r\n        <path d=\"M 10.796875 72.90625 \r\nL 49.515625 72.90625 \r\nL 49.515625 64.59375 \r\nL 19.828125 64.59375 \r\nL 19.828125 46.734375 \r\nQ 21.96875 47.46875 24.109375 47.828125 \r\nQ 26.265625 48.1875 28.421875 48.1875 \r\nQ 40.625 48.1875 47.75 41.5 \r\nQ 54.890625 34.8125 54.890625 23.390625 \r\nQ 54.890625 11.625 47.5625 5.09375 \r\nQ 40.234375 -1.421875 26.90625 -1.421875 \r\nQ 22.3125 -1.421875 17.546875 -0.640625 \r\nQ 12.796875 0.140625 7.71875 1.703125 \r\nL 7.71875 11.625 \r\nQ 12.109375 9.234375 16.796875 8.0625 \r\nQ 21.484375 6.890625 26.703125 6.890625 \r\nQ 35.15625 6.890625 40.078125 11.328125 \r\nQ 45.015625 15.765625 45.015625 23.390625 \r\nQ 45.015625 31 40.078125 35.4375 \r\nQ 35.15625 39.890625 26.703125 39.890625 \r\nQ 22.75 39.890625 18.8125 39.015625 \r\nQ 14.890625 38.140625 10.796875 36.28125 \r\nz\r\n\" id=\"DejaVuSans-53\"/>\r\n       </defs>\r\n       <use xlink:href=\"#DejaVuSans-53\"/>\r\n      </g>\r\n     </g>\r\n    </g>\r\n    <g id=\"xtick_3\">\r\n     <g id=\"line2d_3\">\r\n      <g>\r\n       <use style=\"stroke:#000000;stroke-width:0.8;\" x=\"208.077968\" xlink:href=\"#me5aff4e3b2\" y=\"224.64\"/>\r\n      </g>\r\n     </g>\r\n     <g id=\"text_3\">\r\n      <!-- 10 -->\r\n      <g transform=\"translate(201.715468 239.238438)scale(0.1 -0.1)\">\r\n       <defs>\r\n        <path d=\"M 12.40625 8.296875 \r\nL 28.515625 8.296875 \r\nL 28.515625 63.921875 \r\nL 10.984375 60.40625 \r\nL 10.984375 69.390625 \r\nL 28.421875 72.90625 \r\nL 38.28125 72.90625 \r\nL 38.28125 8.296875 \r\nL 54.390625 8.296875 \r\nL 54.390625 0 \r\nL 12.40625 0 \r\nz\r\n\" id=\"DejaVuSans-49\"/>\r\n       </defs>\r\n       <use xlink:href=\"#DejaVuSans-49\"/>\r\n       <use x=\"63.623047\" xlink:href=\"#DejaVuSans-48\"/>\r\n      </g>\r\n     </g>\r\n    </g>\r\n    <g id=\"xtick_4\">\r\n     <g id=\"line2d_4\">\r\n      <g>\r\n       <use style=\"stroke:#000000;stroke-width:0.8;\" x=\"271.606705\" xlink:href=\"#me5aff4e3b2\" y=\"224.64\"/>\r\n      </g>\r\n     </g>\r\n     <g id=\"text_4\">\r\n      <!-- 15 -->\r\n      <g transform=\"translate(265.244205 239.238438)scale(0.1 -0.1)\">\r\n       <use xlink:href=\"#DejaVuSans-49\"/>\r\n       <use x=\"63.623047\" xlink:href=\"#DejaVuSans-53\"/>\r\n      </g>\r\n     </g>\r\n    </g>\r\n    <g id=\"xtick_5\">\r\n     <g id=\"line2d_5\">\r\n      <g>\r\n       <use style=\"stroke:#000000;stroke-width:0.8;\" x=\"335.135442\" xlink:href=\"#me5aff4e3b2\" y=\"224.64\"/>\r\n      </g>\r\n     </g>\r\n     <g id=\"text_5\">\r\n      <!-- 20 -->\r\n      <g transform=\"translate(328.772942 239.238438)scale(0.1 -0.1)\">\r\n       <defs>\r\n        <path d=\"M 19.1875 8.296875 \r\nL 53.609375 8.296875 \r\nL 53.609375 0 \r\nL 7.328125 0 \r\nL 7.328125 8.296875 \r\nQ 12.9375 14.109375 22.625 23.890625 \r\nQ 32.328125 33.6875 34.8125 36.53125 \r\nQ 39.546875 41.84375 41.421875 45.53125 \r\nQ 43.3125 49.21875 43.3125 52.78125 \r\nQ 43.3125 58.59375 39.234375 62.25 \r\nQ 35.15625 65.921875 28.609375 65.921875 \r\nQ 23.96875 65.921875 18.8125 64.3125 \r\nQ 13.671875 62.703125 7.8125 59.421875 \r\nL 7.8125 69.390625 \r\nQ 13.765625 71.78125 18.9375 73 \r\nQ 24.125 74.21875 28.421875 74.21875 \r\nQ 39.75 74.21875 46.484375 68.546875 \r\nQ 53.21875 62.890625 53.21875 53.421875 \r\nQ 53.21875 48.921875 51.53125 44.890625 \r\nQ 49.859375 40.875 45.40625 35.40625 \r\nQ 44.1875 33.984375 37.640625 27.21875 \r\nQ 31.109375 20.453125 19.1875 8.296875 \r\nz\r\n\" id=\"DejaVuSans-50\"/>\r\n       </defs>\r\n       <use xlink:href=\"#DejaVuSans-50\"/>\r\n       <use x=\"63.623047\" xlink:href=\"#DejaVuSans-48\"/>\r\n      </g>\r\n     </g>\r\n    </g>\r\n    <g id=\"text_6\">\r\n     <!-- avg_price_per_kg -->\r\n     <g transform=\"translate(174.025781 252.916562)scale(0.1 -0.1)\">\r\n      <defs>\r\n       <path d=\"M 34.28125 27.484375 \r\nQ 23.390625 27.484375 19.1875 25 \r\nQ 14.984375 22.515625 14.984375 16.5 \r\nQ 14.984375 11.71875 18.140625 8.90625 \r\nQ 21.296875 6.109375 26.703125 6.109375 \r\nQ 34.1875 6.109375 38.703125 11.40625 \r\nQ 43.21875 16.703125 43.21875 25.484375 \r\nL 43.21875 27.484375 \r\nz\r\nM 52.203125 31.203125 \r\nL 52.203125 0 \r\nL 43.21875 0 \r\nL 43.21875 8.296875 \r\nQ 40.140625 3.328125 35.546875 0.953125 \r\nQ 30.953125 -1.421875 24.3125 -1.421875 \r\nQ 15.921875 -1.421875 10.953125 3.296875 \r\nQ 6 8.015625 6 15.921875 \r\nQ 6 25.140625 12.171875 29.828125 \r\nQ 18.359375 34.515625 30.609375 34.515625 \r\nL 43.21875 34.515625 \r\nL 43.21875 35.40625 \r\nQ 43.21875 41.609375 39.140625 45 \r\nQ 35.0625 48.390625 27.6875 48.390625 \r\nQ 23 48.390625 18.546875 47.265625 \r\nQ 14.109375 46.140625 10.015625 43.890625 \r\nL 10.015625 52.203125 \r\nQ 14.9375 54.109375 19.578125 55.046875 \r\nQ 24.21875 56 28.609375 56 \r\nQ 40.484375 56 46.34375 49.84375 \r\nQ 52.203125 43.703125 52.203125 31.203125 \r\nz\r\n\" id=\"DejaVuSans-97\"/>\r\n       <path d=\"M 2.984375 54.6875 \r\nL 12.5 54.6875 \r\nL 29.59375 8.796875 \r\nL 46.6875 54.6875 \r\nL 56.203125 54.6875 \r\nL 35.6875 0 \r\nL 23.484375 0 \r\nz\r\n\" id=\"DejaVuSans-118\"/>\r\n       <path d=\"M 45.40625 27.984375 \r\nQ 45.40625 37.75 41.375 43.109375 \r\nQ 37.359375 48.484375 30.078125 48.484375 \r\nQ 22.859375 48.484375 18.828125 43.109375 \r\nQ 14.796875 37.75 14.796875 27.984375 \r\nQ 14.796875 18.265625 18.828125 12.890625 \r\nQ 22.859375 7.515625 30.078125 7.515625 \r\nQ 37.359375 7.515625 41.375 12.890625 \r\nQ 45.40625 18.265625 45.40625 27.984375 \r\nz\r\nM 54.390625 6.78125 \r\nQ 54.390625 -7.171875 48.1875 -13.984375 \r\nQ 42 -20.796875 29.203125 -20.796875 \r\nQ 24.46875 -20.796875 20.265625 -20.09375 \r\nQ 16.0625 -19.390625 12.109375 -17.921875 \r\nL 12.109375 -9.1875 \r\nQ 16.0625 -11.328125 19.921875 -12.34375 \r\nQ 23.78125 -13.375 27.78125 -13.375 \r\nQ 36.625 -13.375 41.015625 -8.765625 \r\nQ 45.40625 -4.15625 45.40625 5.171875 \r\nL 45.40625 9.625 \r\nQ 42.625 4.78125 38.28125 2.390625 \r\nQ 33.9375 0 27.875 0 \r\nQ 17.828125 0 11.671875 7.65625 \r\nQ 5.515625 15.328125 5.515625 27.984375 \r\nQ 5.515625 40.671875 11.671875 48.328125 \r\nQ 17.828125 56 27.875 56 \r\nQ 33.9375 56 38.28125 53.609375 \r\nQ 42.625 51.21875 45.40625 46.390625 \r\nL 45.40625 54.6875 \r\nL 54.390625 54.6875 \r\nz\r\n\" id=\"DejaVuSans-103\"/>\r\n       <path d=\"M 50.984375 -16.609375 \r\nL 50.984375 -23.578125 \r\nL -0.984375 -23.578125 \r\nL -0.984375 -16.609375 \r\nz\r\n\" id=\"DejaVuSans-95\"/>\r\n       <path d=\"M 18.109375 8.203125 \r\nL 18.109375 -20.796875 \r\nL 9.078125 -20.796875 \r\nL 9.078125 54.6875 \r\nL 18.109375 54.6875 \r\nL 18.109375 46.390625 \r\nQ 20.953125 51.265625 25.265625 53.625 \r\nQ 29.59375 56 35.59375 56 \r\nQ 45.5625 56 51.78125 48.09375 \r\nQ 58.015625 40.1875 58.015625 27.296875 \r\nQ 58.015625 14.40625 51.78125 6.484375 \r\nQ 45.5625 -1.421875 35.59375 -1.421875 \r\nQ 29.59375 -1.421875 25.265625 0.953125 \r\nQ 20.953125 3.328125 18.109375 8.203125 \r\nz\r\nM 48.6875 27.296875 \r\nQ 48.6875 37.203125 44.609375 42.84375 \r\nQ 40.53125 48.484375 33.40625 48.484375 \r\nQ 26.265625 48.484375 22.1875 42.84375 \r\nQ 18.109375 37.203125 18.109375 27.296875 \r\nQ 18.109375 17.390625 22.1875 11.75 \r\nQ 26.265625 6.109375 33.40625 6.109375 \r\nQ 40.53125 6.109375 44.609375 11.75 \r\nQ 48.6875 17.390625 48.6875 27.296875 \r\nz\r\n\" id=\"DejaVuSans-112\"/>\r\n       <path d=\"M 41.109375 46.296875 \r\nQ 39.59375 47.171875 37.8125 47.578125 \r\nQ 36.03125 48 33.890625 48 \r\nQ 26.265625 48 22.1875 43.046875 \r\nQ 18.109375 38.09375 18.109375 28.8125 \r\nL 18.109375 0 \r\nL 9.078125 0 \r\nL 9.078125 54.6875 \r\nL 18.109375 54.6875 \r\nL 18.109375 46.1875 \r\nQ 20.953125 51.171875 25.484375 53.578125 \r\nQ 30.03125 56 36.53125 56 \r\nQ 37.453125 56 38.578125 55.875 \r\nQ 39.703125 55.765625 41.0625 55.515625 \r\nz\r\n\" id=\"DejaVuSans-114\"/>\r\n       <path d=\"M 9.421875 54.6875 \r\nL 18.40625 54.6875 \r\nL 18.40625 0 \r\nL 9.421875 0 \r\nz\r\nM 9.421875 75.984375 \r\nL 18.40625 75.984375 \r\nL 18.40625 64.59375 \r\nL 9.421875 64.59375 \r\nz\r\n\" id=\"DejaVuSans-105\"/>\r\n       <path d=\"M 48.78125 52.59375 \r\nL 48.78125 44.1875 \r\nQ 44.96875 46.296875 41.140625 47.34375 \r\nQ 37.3125 48.390625 33.40625 48.390625 \r\nQ 24.65625 48.390625 19.8125 42.84375 \r\nQ 14.984375 37.3125 14.984375 27.296875 \r\nQ 14.984375 17.28125 19.8125 11.734375 \r\nQ 24.65625 6.203125 33.40625 6.203125 \r\nQ 37.3125 6.203125 41.140625 7.25 \r\nQ 44.96875 8.296875 48.78125 10.40625 \r\nL 48.78125 2.09375 \r\nQ 45.015625 0.34375 40.984375 -0.53125 \r\nQ 36.96875 -1.421875 32.421875 -1.421875 \r\nQ 20.0625 -1.421875 12.78125 6.34375 \r\nQ 5.515625 14.109375 5.515625 27.296875 \r\nQ 5.515625 40.671875 12.859375 48.328125 \r\nQ 20.21875 56 33.015625 56 \r\nQ 37.15625 56 41.109375 55.140625 \r\nQ 45.0625 54.296875 48.78125 52.59375 \r\nz\r\n\" id=\"DejaVuSans-99\"/>\r\n       <path d=\"M 56.203125 29.59375 \r\nL 56.203125 25.203125 \r\nL 14.890625 25.203125 \r\nQ 15.484375 15.921875 20.484375 11.0625 \r\nQ 25.484375 6.203125 34.421875 6.203125 \r\nQ 39.59375 6.203125 44.453125 7.46875 \r\nQ 49.3125 8.734375 54.109375 11.28125 \r\nL 54.109375 2.78125 \r\nQ 49.265625 0.734375 44.1875 -0.34375 \r\nQ 39.109375 -1.421875 33.890625 -1.421875 \r\nQ 20.796875 -1.421875 13.15625 6.1875 \r\nQ 5.515625 13.8125 5.515625 26.8125 \r\nQ 5.515625 40.234375 12.765625 48.109375 \r\nQ 20.015625 56 32.328125 56 \r\nQ 43.359375 56 49.78125 48.890625 \r\nQ 56.203125 41.796875 56.203125 29.59375 \r\nz\r\nM 47.21875 32.234375 \r\nQ 47.125 39.59375 43.09375 43.984375 \r\nQ 39.0625 48.390625 32.421875 48.390625 \r\nQ 24.90625 48.390625 20.390625 44.140625 \r\nQ 15.875 39.890625 15.1875 32.171875 \r\nz\r\n\" id=\"DejaVuSans-101\"/>\r\n       <path d=\"M 9.078125 75.984375 \r\nL 18.109375 75.984375 \r\nL 18.109375 31.109375 \r\nL 44.921875 54.6875 \r\nL 56.390625 54.6875 \r\nL 27.390625 29.109375 \r\nL 57.625 0 \r\nL 45.90625 0 \r\nL 18.109375 26.703125 \r\nL 18.109375 0 \r\nL 9.078125 0 \r\nz\r\n\" id=\"DejaVuSans-107\"/>\r\n      </defs>\r\n      <use xlink:href=\"#DejaVuSans-97\"/>\r\n      <use x=\"61.279297\" xlink:href=\"#DejaVuSans-118\"/>\r\n      <use x=\"120.458984\" xlink:href=\"#DejaVuSans-103\"/>\r\n      <use x=\"183.935547\" xlink:href=\"#DejaVuSans-95\"/>\r\n      <use x=\"233.935547\" xlink:href=\"#DejaVuSans-112\"/>\r\n      <use x=\"297.412109\" xlink:href=\"#DejaVuSans-114\"/>\r\n      <use x=\"338.525391\" xlink:href=\"#DejaVuSans-105\"/>\r\n      <use x=\"366.308594\" xlink:href=\"#DejaVuSans-99\"/>\r\n      <use x=\"421.289062\" xlink:href=\"#DejaVuSans-101\"/>\r\n      <use x=\"482.8125\" xlink:href=\"#DejaVuSans-95\"/>\r\n      <use x=\"532.8125\" xlink:href=\"#DejaVuSans-112\"/>\r\n      <use x=\"596.289062\" xlink:href=\"#DejaVuSans-101\"/>\r\n      <use x=\"657.8125\" xlink:href=\"#DejaVuSans-114\"/>\r\n      <use x=\"698.925781\" xlink:href=\"#DejaVuSans-95\"/>\r\n      <use x=\"748.925781\" xlink:href=\"#DejaVuSans-107\"/>\r\n      <use x=\"806.835938\" xlink:href=\"#DejaVuSans-103\"/>\r\n     </g>\r\n    </g>\r\n   </g>\r\n   <g id=\"matplotlib.axis_2\">\r\n    <g id=\"ytick_1\">\r\n     <g id=\"line2d_6\">\r\n      <defs>\r\n       <path d=\"M 0 0 \r\nL -3.5 0 \r\n\" id=\"m68f7e7f1a7\" style=\"stroke:#000000;stroke-width:0.8;\"/>\r\n      </defs>\r\n      <g>\r\n       <use style=\"stroke:#000000;stroke-width:0.8;\" x=\"50.14375\" xlink:href=\"#m68f7e7f1a7\" y=\"224.64\"/>\r\n      </g>\r\n     </g>\r\n     <g id=\"text_7\">\r\n      <!-- 0.00 -->\r\n      <g transform=\"translate(20.878125 228.439219)scale(0.1 -0.1)\">\r\n       <defs>\r\n        <path d=\"M 10.6875 12.40625 \r\nL 21 12.40625 \r\nL 21 0 \r\nL 10.6875 0 \r\nz\r\n\" id=\"DejaVuSans-46\"/>\r\n       </defs>\r\n       <use xlink:href=\"#DejaVuSans-48\"/>\r\n       <use x=\"63.623047\" xlink:href=\"#DejaVuSans-46\"/>\r\n       <use x=\"95.410156\" xlink:href=\"#DejaVuSans-48\"/>\r\n       <use x=\"159.033203\" xlink:href=\"#DejaVuSans-48\"/>\r\n      </g>\r\n     </g>\r\n    </g>\r\n    <g id=\"ytick_2\">\r\n     <g id=\"line2d_7\">\r\n      <g>\r\n       <use style=\"stroke:#000000;stroke-width:0.8;\" x=\"50.14375\" xlink:href=\"#m68f7e7f1a7\" y=\"176.627238\"/>\r\n      </g>\r\n     </g>\r\n     <g id=\"text_8\">\r\n      <!-- 0.05 -->\r\n      <g transform=\"translate(20.878125 180.426457)scale(0.1 -0.1)\">\r\n       <use xlink:href=\"#DejaVuSans-48\"/>\r\n       <use x=\"63.623047\" xlink:href=\"#DejaVuSans-46\"/>\r\n       <use x=\"95.410156\" xlink:href=\"#DejaVuSans-48\"/>\r\n       <use x=\"159.033203\" xlink:href=\"#DejaVuSans-53\"/>\r\n      </g>\r\n     </g>\r\n    </g>\r\n    <g id=\"ytick_3\">\r\n     <g id=\"line2d_8\">\r\n      <g>\r\n       <use style=\"stroke:#000000;stroke-width:0.8;\" x=\"50.14375\" xlink:href=\"#m68f7e7f1a7\" y=\"128.614476\"/>\r\n      </g>\r\n     </g>\r\n     <g id=\"text_9\">\r\n      <!-- 0.10 -->\r\n      <g transform=\"translate(20.878125 132.413695)scale(0.1 -0.1)\">\r\n       <use xlink:href=\"#DejaVuSans-48\"/>\r\n       <use x=\"63.623047\" xlink:href=\"#DejaVuSans-46\"/>\r\n       <use x=\"95.410156\" xlink:href=\"#DejaVuSans-49\"/>\r\n       <use x=\"159.033203\" xlink:href=\"#DejaVuSans-48\"/>\r\n      </g>\r\n     </g>\r\n    </g>\r\n    <g id=\"ytick_4\">\r\n     <g id=\"line2d_9\">\r\n      <g>\r\n       <use style=\"stroke:#000000;stroke-width:0.8;\" x=\"50.14375\" xlink:href=\"#m68f7e7f1a7\" y=\"80.601714\"/>\r\n      </g>\r\n     </g>\r\n     <g id=\"text_10\">\r\n      <!-- 0.15 -->\r\n      <g transform=\"translate(20.878125 84.400933)scale(0.1 -0.1)\">\r\n       <use xlink:href=\"#DejaVuSans-48\"/>\r\n       <use x=\"63.623047\" xlink:href=\"#DejaVuSans-46\"/>\r\n       <use x=\"95.410156\" xlink:href=\"#DejaVuSans-49\"/>\r\n       <use x=\"159.033203\" xlink:href=\"#DejaVuSans-53\"/>\r\n      </g>\r\n     </g>\r\n    </g>\r\n    <g id=\"ytick_5\">\r\n     <g id=\"line2d_10\">\r\n      <g>\r\n       <use style=\"stroke:#000000;stroke-width:0.8;\" x=\"50.14375\" xlink:href=\"#m68f7e7f1a7\" y=\"32.588952\"/>\r\n      </g>\r\n     </g>\r\n     <g id=\"text_11\">\r\n      <!-- 0.20 -->\r\n      <g transform=\"translate(20.878125 36.388171)scale(0.1 -0.1)\">\r\n       <use xlink:href=\"#DejaVuSans-48\"/>\r\n       <use x=\"63.623047\" xlink:href=\"#DejaVuSans-46\"/>\r\n       <use x=\"95.410156\" xlink:href=\"#DejaVuSans-50\"/>\r\n       <use x=\"159.033203\" xlink:href=\"#DejaVuSans-48\"/>\r\n      </g>\r\n     </g>\r\n    </g>\r\n    <g id=\"text_12\">\r\n     <!-- Density -->\r\n     <g transform=\"translate(14.798438 134.928594)rotate(-90)scale(0.1 -0.1)\">\r\n      <defs>\r\n       <path d=\"M 19.671875 64.796875 \r\nL 19.671875 8.109375 \r\nL 31.59375 8.109375 \r\nQ 46.6875 8.109375 53.6875 14.9375 \r\nQ 60.6875 21.78125 60.6875 36.53125 \r\nQ 60.6875 51.171875 53.6875 57.984375 \r\nQ 46.6875 64.796875 31.59375 64.796875 \r\nz\r\nM 9.8125 72.90625 \r\nL 30.078125 72.90625 \r\nQ 51.265625 72.90625 61.171875 64.09375 \r\nQ 71.09375 55.28125 71.09375 36.53125 \r\nQ 71.09375 17.671875 61.125 8.828125 \r\nQ 51.171875 0 30.078125 0 \r\nL 9.8125 0 \r\nz\r\n\" id=\"DejaVuSans-68\"/>\r\n       <path d=\"M 54.890625 33.015625 \r\nL 54.890625 0 \r\nL 45.90625 0 \r\nL 45.90625 32.71875 \r\nQ 45.90625 40.484375 42.875 44.328125 \r\nQ 39.84375 48.1875 33.796875 48.1875 \r\nQ 26.515625 48.1875 22.3125 43.546875 \r\nQ 18.109375 38.921875 18.109375 30.90625 \r\nL 18.109375 0 \r\nL 9.078125 0 \r\nL 9.078125 54.6875 \r\nL 18.109375 54.6875 \r\nL 18.109375 46.1875 \r\nQ 21.34375 51.125 25.703125 53.5625 \r\nQ 30.078125 56 35.796875 56 \r\nQ 45.21875 56 50.046875 50.171875 \r\nQ 54.890625 44.34375 54.890625 33.015625 \r\nz\r\n\" id=\"DejaVuSans-110\"/>\r\n       <path d=\"M 44.28125 53.078125 \r\nL 44.28125 44.578125 \r\nQ 40.484375 46.53125 36.375 47.5 \r\nQ 32.28125 48.484375 27.875 48.484375 \r\nQ 21.1875 48.484375 17.84375 46.4375 \r\nQ 14.5 44.390625 14.5 40.28125 \r\nQ 14.5 37.15625 16.890625 35.375 \r\nQ 19.28125 33.59375 26.515625 31.984375 \r\nL 29.59375 31.296875 \r\nQ 39.15625 29.25 43.1875 25.515625 \r\nQ 47.21875 21.78125 47.21875 15.09375 \r\nQ 47.21875 7.46875 41.1875 3.015625 \r\nQ 35.15625 -1.421875 24.609375 -1.421875 \r\nQ 20.21875 -1.421875 15.453125 -0.5625 \r\nQ 10.6875 0.296875 5.421875 2 \r\nL 5.421875 11.28125 \r\nQ 10.40625 8.6875 15.234375 7.390625 \r\nQ 20.0625 6.109375 24.8125 6.109375 \r\nQ 31.15625 6.109375 34.5625 8.28125 \r\nQ 37.984375 10.453125 37.984375 14.40625 \r\nQ 37.984375 18.0625 35.515625 20.015625 \r\nQ 33.0625 21.96875 24.703125 23.78125 \r\nL 21.578125 24.515625 \r\nQ 13.234375 26.265625 9.515625 29.90625 \r\nQ 5.8125 33.546875 5.8125 39.890625 \r\nQ 5.8125 47.609375 11.28125 51.796875 \r\nQ 16.75 56 26.8125 56 \r\nQ 31.78125 56 36.171875 55.265625 \r\nQ 40.578125 54.546875 44.28125 53.078125 \r\nz\r\n\" id=\"DejaVuSans-115\"/>\r\n       <path d=\"M 18.3125 70.21875 \r\nL 18.3125 54.6875 \r\nL 36.8125 54.6875 \r\nL 36.8125 47.703125 \r\nL 18.3125 47.703125 \r\nL 18.3125 18.015625 \r\nQ 18.3125 11.328125 20.140625 9.421875 \r\nQ 21.96875 7.515625 27.59375 7.515625 \r\nL 36.8125 7.515625 \r\nL 36.8125 0 \r\nL 27.59375 0 \r\nQ 17.1875 0 13.234375 3.875 \r\nQ 9.28125 7.765625 9.28125 18.015625 \r\nL 9.28125 47.703125 \r\nL 2.6875 47.703125 \r\nL 2.6875 54.6875 \r\nL 9.28125 54.6875 \r\nL 9.28125 70.21875 \r\nz\r\n\" id=\"DejaVuSans-116\"/>\r\n       <path d=\"M 32.171875 -5.078125 \r\nQ 28.375 -14.84375 24.75 -17.8125 \r\nQ 21.140625 -20.796875 15.09375 -20.796875 \r\nL 7.90625 -20.796875 \r\nL 7.90625 -13.28125 \r\nL 13.1875 -13.28125 \r\nQ 16.890625 -13.28125 18.9375 -11.515625 \r\nQ 21 -9.765625 23.484375 -3.21875 \r\nL 25.09375 0.875 \r\nL 2.984375 54.6875 \r\nL 12.5 54.6875 \r\nL 29.59375 11.921875 \r\nL 46.6875 54.6875 \r\nL 56.203125 54.6875 \r\nz\r\n\" id=\"DejaVuSans-121\"/>\r\n      </defs>\r\n      <use xlink:href=\"#DejaVuSans-68\"/>\r\n      <use x=\"77.001953\" xlink:href=\"#DejaVuSans-101\"/>\r\n      <use x=\"138.525391\" xlink:href=\"#DejaVuSans-110\"/>\r\n      <use x=\"201.904297\" xlink:href=\"#DejaVuSans-115\"/>\r\n      <use x=\"254.003906\" xlink:href=\"#DejaVuSans-105\"/>\r\n      <use x=\"281.787109\" xlink:href=\"#DejaVuSans-116\"/>\r\n      <use x=\"320.996094\" xlink:href=\"#DejaVuSans-121\"/>\r\n     </g>\r\n    </g>\r\n   </g>\r\n   <g id=\"line2d_11\">\r\n    <path clip-path=\"url(#p8a0d98664d)\" d=\"M 65.361932 224.63261 \r\nL 71.479794 224.529821 \r\nL 74.538725 224.318576 \r\nL 77.597656 223.837567 \r\nL 79.127121 223.433768 \r\nL 80.656587 222.878837 \r\nL 82.186052 222.137022 \r\nL 83.715518 221.173365 \r\nL 85.244983 219.960328 \r\nL 86.774449 218.486918 \r\nL 88.303914 216.768212 \r\nL 91.362845 212.816864 \r\nL 94.421776 208.804605 \r\nL 95.951242 207.027022 \r\nL 97.480708 205.495147 \r\nL 99.010173 204.234998 \r\nL 100.539639 203.241131 \r\nL 102.069104 202.489531 \r\nL 103.59857 201.951744 \r\nL 105.128035 201.603303 \r\nL 106.657501 201.422662 \r\nL 109.716432 201.434324 \r\nL 112.775363 201.504527 \r\nL 114.304828 201.316141 \r\nL 115.834294 200.837335 \r\nL 117.363759 199.980797 \r\nL 118.893225 198.67947 \r\nL 120.42269 196.875065 \r\nL 121.952156 194.496375 \r\nL 123.481621 191.438217 \r\nL 125.011087 187.555436 \r\nL 126.540552 182.683861 \r\nL 128.070018 176.690491 \r\nL 129.599483 169.540987 \r\nL 131.128949 161.359388 \r\nL 137.246811 125.923904 \r\nL 138.776276 118.388018 \r\nL 141.835207 105.316596 \r\nL 144.894138 92.570019 \r\nL 147.953069 78.283196 \r\nL 151.012 64.157922 \r\nL 152.541466 58.327854 \r\nL 154.070931 53.817778 \r\nL 155.600397 50.739989 \r\nL 157.129862 48.985629 \r\nL 158.659328 48.298539 \r\nL 160.188793 48.384771 \r\nL 161.718259 49.013494 \r\nL 163.247724 50.07216 \r\nL 164.77719 51.55956 \r\nL 166.306655 53.5269 \r\nL 167.836121 55.998936 \r\nL 169.365586 58.914817 \r\nL 175.483448 71.540571 \r\nL 180.071845 80.134914 \r\nL 181.601311 83.4763 \r\nL 183.130776 87.243096 \r\nL 186.189707 95.74044 \r\nL 189.248638 104.331527 \r\nL 192.307569 111.971699 \r\nL 199.954897 129.494706 \r\nL 203.013828 137.239277 \r\nL 204.543293 141.476916 \r\nL 206.072759 146.111125 \r\nL 207.602224 151.246997 \r\nL 209.13169 156.914512 \r\nL 212.190621 169.399645 \r\nL 215.249552 181.858267 \r\nL 216.779017 187.487198 \r\nL 218.308483 192.538699 \r\nL 219.837948 196.985724 \r\nL 221.367414 200.854015 \r\nL 222.896879 204.187073 \r\nL 224.426345 207.024075 \r\nL 225.95581 209.397425 \r\nL 227.485276 211.344864 \r\nL 229.014741 212.924077 \r\nL 230.544207 214.218192 \r\nL 233.603138 216.346562 \r\nL 239.721 220.341017 \r\nL 241.250465 221.21419 \r\nL 242.779931 221.943392 \r\nL 244.309396 222.498026 \r\nL 245.838862 222.867556 \r\nL 247.368327 223.058164 \r\nL 248.897793 223.087201 \r\nL 251.956724 222.763952 \r\nL 258.074586 221.674197 \r\nL 259.604052 221.579789 \r\nL 261.133517 221.622942 \r\nL 264.192448 222.0905 \r\nL 270.31031 223.474207 \r\nL 273.369241 223.887823 \r\nL 277.957638 224.205864 \r\nL 287.134431 224.5699 \r\nL 296.311224 224.638435 \r\nL 339.136258 224.57116 \r\nL 354.430913 224.301215 \r\nL 366.666637 224.6231 \r\nL 369.725568 224.635588 \r\nL 369.725568 224.635588 \r\n\" style=\"fill:none;stroke:#1f77b4;stroke-linecap:square;stroke-width:1.5;\"/>\r\n   </g>\r\n   <g id=\"patch_50\">\r\n    <path d=\"M 50.14375 224.64 \r\nL 50.14375 7.2 \r\n\" style=\"fill:none;stroke:#000000;stroke-linecap:square;stroke-linejoin:miter;stroke-width:0.8;\"/>\r\n   </g>\r\n   <g id=\"patch_51\">\r\n    <path d=\"M 384.94375 224.64 \r\nL 384.94375 7.2 \r\n\" style=\"fill:none;stroke:#000000;stroke-linecap:square;stroke-linejoin:miter;stroke-width:0.8;\"/>\r\n   </g>\r\n   <g id=\"patch_52\">\r\n    <path d=\"M 50.14375 224.64 \r\nL 384.94375 224.64 \r\n\" style=\"fill:none;stroke:#000000;stroke-linecap:square;stroke-linejoin:miter;stroke-width:0.8;\"/>\r\n   </g>\r\n   <g id=\"patch_53\">\r\n    <path d=\"M 50.14375 7.2 \r\nL 384.94375 7.2 \r\n\" style=\"fill:none;stroke:#000000;stroke-linecap:square;stroke-linejoin:miter;stroke-width:0.8;\"/>\r\n   </g>\r\n  </g>\r\n </g>\r\n <defs>\r\n  <clipPath id=\"p8a0d98664d\">\r\n   <rect height=\"217.44\" width=\"334.8\" x=\"50.14375\" y=\"7.2\"/>\r\n  </clipPath>\r\n </defs>\r\n</svg>\r\n",
      "image/png": "[encoded data removed]"
     },
     "metadata": {
      "needs_background": "light"
     }
    }
   ],
   "source": [
    "sns.distplot(df_AGD['avg_price_per_kg'], kde=True)"
   ]
  },
  {
   "source": [
    "Our data seems fairly normally distributed, but we will confirm it"
   ],
   "cell_type": "markdown",
   "metadata": {}
  },
  {
   "cell_type": "markdown",
   "metadata": {},
   "source": [
    "Kurtosis is the measure of outliers: **High kurtosis (>3)** and **low kurtosis (3>)** indicates large and lack of outliers, respectively.\n",
    "\n",
    "Skewness indicates the symmetry of the data"
   ]
  },
  {
   "cell_type": "code",
   "execution_count": 23,
   "metadata": {},
   "outputs": [
    {
     "output_type": "execute_result",
     "data": {
      "text/plain": [
       "Weight_Kg            9.109698\n",
       "Low_Price           17.073369\n",
       "High_Price          13.630768\n",
       "Sales_Total         24.200524\n",
       "Total_Qty_Sold      32.338123\n",
       "Total_Kg_Sold       45.153801\n",
       "Stock_On_Hand       14.671224\n",
       "avg_price_per_kg     1.042921\n",
       "dtype: float64"
      ]
     },
     "metadata": {},
     "execution_count": 23
    }
   ],
   "source": [
    "df_AGD.kurtosis()"
   ]
  },
  {
   "cell_type": "markdown",
   "metadata": {},
   "source": [
    "The kurtosis shows that there are likely be many outliers in our dataset. We will bear this in our mind when we visualise the data. "
   ]
  },
  {
   "cell_type": "code",
   "execution_count": 37,
   "metadata": {},
   "outputs": [
    {
     "output_type": "execute_result",
     "data": {
      "text/plain": [
       "Weight_Kg           3.328254\n",
       "Low_Price           4.222672\n",
       "High_Price          3.828819\n",
       "Sales_Total         4.250317\n",
       "Total_Qty_Sold      4.445169\n",
       "Total_Kg_Sold       5.529586\n",
       "Stock_On_Hand       3.391815\n",
       "avg_price_per_kg    0.082452\n",
       "dtype: float64"
      ]
     },
     "metadata": {},
     "execution_count": 37
    }
   ],
   "source": [
    "df_AGD.skew()"
   ]
  },
  {
   "cell_type": "markdown",
   "metadata": {},
   "source": [
    "All our data have skewnesss higher thatn 1. Which tells us that it is positively skewed."
   ]
  },
  {
   "source": [
    "## One-hot Encoding \n",
    "\n",
    "This is where we assign our categorical data a numerical equivalent for the purpose of model building"
   ],
   "cell_type": "markdown",
   "metadata": {}
  },
  {
   "cell_type": "code",
   "execution_count": 24,
   "metadata": {},
   "outputs": [
    {
     "output_type": "execute_result",
     "data": {
      "text/plain": [
       "                      Weight_Kg  Low_Price  High_Price  Sales_Total  \\\n",
       "Province                                                              \n",
       "CAPE                       18.3      150.0       170.0      51710.0   \n",
       "CAPE                       11.0       50.0        50.0      16000.0   \n",
       "W.CAPE-BERGRIVER ETC        9.0       55.0        55.0        990.0   \n",
       "CAPE                       18.3       80.0       120.0      32020.0   \n",
       "EASTERN CAPE              400.0     1800.0      1800.0       1800.0   \n",
       "\n",
       "                      Total_Qty_Sold  Total_Kg_Sold  Stock_On_Hand  \\\n",
       "Province                                                             \n",
       "CAPE                             332         6075.6            822   \n",
       "CAPE                             320         3520.0              0   \n",
       "W.CAPE-BERGRIVER ETC              18          162.0           1506   \n",
       "CAPE                             388         7100.4            443   \n",
       "EASTERN CAPE                       1          400.0              2   \n",
       "\n",
       "                      avg_price_per_kg  Container_AC030  Container_DT063  ...  \\\n",
       "Province                                                                  ...   \n",
       "CAPE                              8.51                0                0  ...   \n",
       "CAPE                              4.55                0                0  ...   \n",
       "W.CAPE-BERGRIVER ETC              6.11                0                0  ...   \n",
       "CAPE                              4.51                0                0  ...   \n",
       "EASTERN CAPE                      4.50                0                0  ...   \n",
       "\n",
       "                      Date_2020-09-07  Date_2020-09-09  Date_2020-09-16  \\\n",
       "Province                                                                  \n",
       "CAPE                                0                1                0   \n",
       "CAPE                                0                0                0   \n",
       "W.CAPE-BERGRIVER ETC                0                0                0   \n",
       "CAPE                                0                0                0   \n",
       "EASTERN CAPE                        0                0                0   \n",
       "\n",
       "                      Date_2020-09-17  Date_2020-09-19  Date_2020-09-21  \\\n",
       "Province                                                                  \n",
       "CAPE                                0                0                0   \n",
       "CAPE                                0                0                0   \n",
       "W.CAPE-BERGRIVER ETC                0                0                0   \n",
       "CAPE                                0                0                0   \n",
       "EASTERN CAPE                        0                0                0   \n",
       "\n",
       "                      Date_2020-09-23  Date_2020-09-28  Date_2020-10-01  \\\n",
       "Province                                                                  \n",
       "CAPE                                0                0                0   \n",
       "CAPE                                0                0                0   \n",
       "W.CAPE-BERGRIVER ETC                0                0                0   \n",
       "CAPE                                0                0                0   \n",
       "EASTERN CAPE                        0                1                0   \n",
       "\n",
       "                      Date_2020-10-03  \n",
       "Province                               \n",
       "CAPE                                0  \n",
       "CAPE                                0  \n",
       "W.CAPE-BERGRIVER ETC                0  \n",
       "CAPE                                0  \n",
       "EASTERN CAPE                        0  \n",
       "\n",
       "[5 rows x 177 columns]"
      ],
      "text/html": "<div>\n<style scoped>\n    .dataframe tbody tr th:only-of-type {\n        vertical-align: middle;\n    }\n\n    .dataframe tbody tr th {\n        vertical-align: top;\n    }\n\n    .dataframe thead th {\n        text-align: right;\n    }\n</style>\n<table border=\"1\" class=\"dataframe\">\n  <thead>\n    <tr style=\"text-align: right;\">\n      <th></th>\n      <th>Weight_Kg</th>\n      <th>Low_Price</th>\n      <th>High_Price</th>\n      <th>Sales_Total</th>\n      <th>Total_Qty_Sold</th>\n      <th>Total_Kg_Sold</th>\n      <th>Stock_On_Hand</th>\n      <th>avg_price_per_kg</th>\n      <th>Container_AC030</th>\n      <th>Container_DT063</th>\n      <th>...</th>\n      <th>Date_2020-09-07</th>\n      <th>Date_2020-09-09</th>\n      <th>Date_2020-09-16</th>\n      <th>Date_2020-09-17</th>\n      <th>Date_2020-09-19</th>\n      <th>Date_2020-09-21</th>\n      <th>Date_2020-09-23</th>\n      <th>Date_2020-09-28</th>\n      <th>Date_2020-10-01</th>\n      <th>Date_2020-10-03</th>\n    </tr>\n    <tr>\n      <th>Province</th>\n      <th></th>\n      <th></th>\n      <th></th>\n      <th></th>\n      <th></th>\n      <th></th>\n      <th></th>\n      <th></th>\n      <th></th>\n      <th></th>\n      <th></th>\n      <th></th>\n      <th></th>\n      <th></th>\n      <th></th>\n      <th></th>\n      <th></th>\n      <th></th>\n      <th></th>\n      <th></th>\n      <th></th>\n    </tr>\n  </thead>\n  <tbody>\n    <tr>\n      <th>CAPE</th>\n      <td>18.3</td>\n      <td>150.0</td>\n      <td>170.0</td>\n      <td>51710.0</td>\n      <td>332</td>\n      <td>6075.6</td>\n      <td>822</td>\n      <td>8.51</td>\n      <td>0</td>\n      <td>0</td>\n      <td>...</td>\n      <td>0</td>\n      <td>1</td>\n      <td>0</td>\n      <td>0</td>\n      <td>0</td>\n      <td>0</td>\n      <td>0</td>\n      <td>0</td>\n      <td>0</td>\n      <td>0</td>\n    </tr>\n    <tr>\n      <th>CAPE</th>\n      <td>11.0</td>\n      <td>50.0</td>\n      <td>50.0</td>\n      <td>16000.0</td>\n      <td>320</td>\n      <td>3520.0</td>\n      <td>0</td>\n      <td>4.55</td>\n      <td>0</td>\n      <td>0</td>\n      <td>...</td>\n      <td>0</td>\n      <td>0</td>\n      <td>0</td>\n      <td>0</td>\n      <td>0</td>\n      <td>0</td>\n      <td>0</td>\n      <td>0</td>\n      <td>0</td>\n      <td>0</td>\n    </tr>\n    <tr>\n      <th>W.CAPE-BERGRIVER ETC</th>\n      <td>9.0</td>\n      <td>55.0</td>\n      <td>55.0</td>\n      <td>990.0</td>\n      <td>18</td>\n      <td>162.0</td>\n      <td>1506</td>\n      <td>6.11</td>\n      <td>0</td>\n      <td>0</td>\n      <td>...</td>\n      <td>0</td>\n      <td>0</td>\n      <td>0</td>\n      <td>0</td>\n      <td>0</td>\n      <td>0</td>\n      <td>0</td>\n      <td>0</td>\n      <td>0</td>\n      <td>0</td>\n    </tr>\n    <tr>\n      <th>CAPE</th>\n      <td>18.3</td>\n      <td>80.0</td>\n      <td>120.0</td>\n      <td>32020.0</td>\n      <td>388</td>\n      <td>7100.4</td>\n      <td>443</td>\n      <td>4.51</td>\n      <td>0</td>\n      <td>0</td>\n      <td>...</td>\n      <td>0</td>\n      <td>0</td>\n      <td>0</td>\n      <td>0</td>\n      <td>0</td>\n      <td>0</td>\n      <td>0</td>\n      <td>0</td>\n      <td>0</td>\n      <td>0</td>\n    </tr>\n    <tr>\n      <th>EASTERN CAPE</th>\n      <td>400.0</td>\n      <td>1800.0</td>\n      <td>1800.0</td>\n      <td>1800.0</td>\n      <td>1</td>\n      <td>400.0</td>\n      <td>2</td>\n      <td>4.50</td>\n      <td>0</td>\n      <td>0</td>\n      <td>...</td>\n      <td>0</td>\n      <td>0</td>\n      <td>0</td>\n      <td>0</td>\n      <td>0</td>\n      <td>0</td>\n      <td>0</td>\n      <td>1</td>\n      <td>0</td>\n      <td>0</td>\n    </tr>\n  </tbody>\n</table>\n<p>5 rows × 177 columns</p>\n</div>"
     },
     "metadata": {},
     "execution_count": 24
    }
   ],
   "source": [
    "dummy_df_AGD = pd.get_dummies(df_AGD)\n",
    "dummy_df_AGD.head()"
   ]
  },
  {
   "cell_type": "code",
   "execution_count": 25,
   "metadata": {},
   "outputs": [
    {
     "output_type": "execute_result",
     "data": {
      "text/plain": [
       "(1952, 177)"
      ]
     },
     "metadata": {},
     "execution_count": 25
    }
   ],
   "source": [
    "dummy_df_AGD.shape"
   ]
  },
  {
   "source": [
    "Now we have 177 columns instead of 12. This is largely due to the fact that our \"Date\" variable was converted into numerical variable (1,0)\n",
    "\n",
    "We will deal with this later"
   ],
   "cell_type": "markdown",
   "metadata": {}
  },
  {
   "source": [
    "## Correlation threshold selection\n",
    "\n",
    "Let's determine how our predictors (x) are correlated to our response (y; 'avg_price_per_kg')\n"
   ],
   "cell_type": "markdown",
   "metadata": {}
  },
  {
   "cell_type": "code",
   "execution_count": 26,
   "metadata": {},
   "outputs": [],
   "source": [
    "column_titles = [col for col in dummy_df_AGD.columns if col!= 'avg_price_per_kg'] + ['avg_price_per_kg']\n",
    "dummy_df_AGD=dummy_df_AGD.reindex(columns=column_titles)"
   ]
  },
  {
   "cell_type": "code",
   "execution_count": 27,
   "metadata": {},
   "outputs": [
    {
     "output_type": "execute_result",
     "data": {
      "text/plain": [
       "                                    Correlation\n",
       "avg_price_per_kg                       1.000000\n",
       "Container_M4183                        0.403229\n",
       "Size_Grade_1L                          0.280966\n",
       "Size_Grade_1X                          0.251451\n",
       "Container_EC120                        0.188162\n",
       "...                                         ...\n",
       "Container_JE090                       -0.322235\n",
       "Weight_Kg                             -0.337886\n",
       "Size_Grade_2S                         -0.352996\n",
       "Container_IA400                       -0.355565\n",
       "Commodities_APPLE GOLDEN DELICIOUS          NaN\n",
       "\n",
       "[177 rows x 1 columns]"
      ],
      "text/html": "<div>\n<style scoped>\n    .dataframe tbody tr th:only-of-type {\n        vertical-align: middle;\n    }\n\n    .dataframe tbody tr th {\n        vertical-align: top;\n    }\n\n    .dataframe thead th {\n        text-align: right;\n    }\n</style>\n<table border=\"1\" class=\"dataframe\">\n  <thead>\n    <tr style=\"text-align: right;\">\n      <th></th>\n      <th>Correlation</th>\n    </tr>\n  </thead>\n  <tbody>\n    <tr>\n      <th>avg_price_per_kg</th>\n      <td>1.000000</td>\n    </tr>\n    <tr>\n      <th>Container_M4183</th>\n      <td>0.403229</td>\n    </tr>\n    <tr>\n      <th>Size_Grade_1L</th>\n      <td>0.280966</td>\n    </tr>\n    <tr>\n      <th>Size_Grade_1X</th>\n      <td>0.251451</td>\n    </tr>\n    <tr>\n      <th>Container_EC120</th>\n      <td>0.188162</td>\n    </tr>\n    <tr>\n      <th>...</th>\n      <td>...</td>\n    </tr>\n    <tr>\n      <th>Container_JE090</th>\n      <td>-0.322235</td>\n    </tr>\n    <tr>\n      <th>Weight_Kg</th>\n      <td>-0.337886</td>\n    </tr>\n    <tr>\n      <th>Size_Grade_2S</th>\n      <td>-0.352996</td>\n    </tr>\n    <tr>\n      <th>Container_IA400</th>\n      <td>-0.355565</td>\n    </tr>\n    <tr>\n      <th>Commodities_APPLE GOLDEN DELICIOUS</th>\n      <td>NaN</td>\n    </tr>\n  </tbody>\n</table>\n<p>177 rows × 1 columns</p>\n</div>"
     },
     "metadata": {},
     "execution_count": 27
    }
   ],
   "source": [
    "corrs = pd.DataFrame(dummy_df_AGD.corr()['avg_price_per_kg']).rename(columns = {'avg_price_per_kg':'Correlation'})\n",
    "corrs.sort_values(by='Correlation',ascending=False, inplace=True)\n",
    "corrs"
   ]
  },
  {
   "source": [
    "We need to evaluate the autocorrelation among the predictor variables. "
   ],
   "cell_type": "markdown",
   "metadata": {}
  },
  {
   "cell_type": "code",
   "execution_count": 28,
   "metadata": {},
   "outputs": [
    {
     "output_type": "execute_result",
     "data": {
      "text/plain": [
       "Empty DataFrame\n",
       "Columns: []\n",
       "Index: []"
      ],
      "text/html": "<div>\n<style scoped>\n    .dataframe tbody tr th:only-of-type {\n        vertical-align: middle;\n    }\n\n    .dataframe tbody tr th {\n        vertical-align: top;\n    }\n\n    .dataframe thead th {\n        text-align: right;\n    }\n</style>\n<table border=\"1\" class=\"dataframe\">\n  <thead>\n    <tr style=\"text-align: right;\">\n      <th></th>\n    </tr>\n  </thead>\n  <tbody>\n  </tbody>\n</table>\n</div>"
     },
     "metadata": {},
     "execution_count": 28
    }
   ],
   "source": [
    "r, c = np.where(np.abs(corrs) > 0.9) # High correlation\n",
    "off_diagonal = np.where(r != c)\n",
    "corrs.iloc[r[off_diagonal], c[off_diagonal]]"
   ]
  },
  {
   "cell_type": "markdown",
   "metadata": {},
   "source": [
    "Let's determine if there are any linear relationship betweem using Pearson's correlation. \n",
    "\n",
    "For now, we are assumung that our data is normal (we will log transform it later)"
   ]
  },
  {
   "cell_type": "code",
   "execution_count": 29,
   "metadata": {},
   "outputs": [
    {
     "output_type": "execute_result",
     "data": {
      "text/plain": [
       "                  Weight_Kg  Low_Price  High_Price  Sales_Total  \\\n",
       "Weight_Kg          1.000000   0.863182    0.905852     0.180518   \n",
       "Low_Price          0.863182   1.000000    0.938140     0.183230   \n",
       "High_Price         0.905852   0.938140    1.000000     0.265672   \n",
       "Sales_Total        0.180518   0.183230    0.265672     1.000000   \n",
       "Total_Qty_Sold    -0.133317  -0.122823   -0.096456     0.771865   \n",
       "...                     ...        ...         ...          ...   \n",
       "Date_2020-09-23    0.011755   0.010579    0.016959     0.004517   \n",
       "Date_2020-09-28    0.047837   0.052795    0.055844     0.007223   \n",
       "Date_2020-10-01    0.014122   0.017314    0.017007    -0.025153   \n",
       "Date_2020-10-03   -0.020392  -0.016353   -0.018776    -0.022198   \n",
       "avg_price_per_kg  -0.337886  -0.141740   -0.164496     0.108473   \n",
       "\n",
       "                  Total_Qty_Sold  Total_Kg_Sold  Stock_On_Hand  \\\n",
       "Weight_Kg              -0.133317       0.294117      -0.144105   \n",
       "Low_Price              -0.122823       0.269744      -0.127677   \n",
       "High_Price             -0.096456       0.372282      -0.094174   \n",
       "Sales_Total             0.771865       0.962338       0.284693   \n",
       "Total_Qty_Sold          1.000000       0.651440       0.390168   \n",
       "...                          ...            ...            ...   \n",
       "Date_2020-09-23         0.003774       0.007462       0.007288   \n",
       "Date_2020-09-28        -0.011998       0.016391       0.024036   \n",
       "Date_2020-10-01        -0.018147      -0.023714      -0.026142   \n",
       "Date_2020-10-03        -0.017393      -0.022634      -0.010955   \n",
       "avg_price_per_kg        0.087536      -0.001007       0.105028   \n",
       "\n",
       "                  Container_AC030  Container_DT063  Container_EC120  ...  \\\n",
       "Weight_Kg               -0.047765        -0.019039        -0.155910  ...   \n",
       "Low_Price               -0.055111        -0.021828        -0.136387  ...   \n",
       "High_Price              -0.059450        -0.024103        -0.131819  ...   \n",
       "Sales_Total             -0.056335        -0.028371         0.072059  ...   \n",
       "Total_Qty_Sold          -0.003183        -0.029978         0.177089  ...   \n",
       "...                           ...              ...              ...  ...   \n",
       "Date_2020-09-23         -0.012594         0.088758         0.007933  ...   \n",
       "Date_2020-09-28         -0.010797        -0.004719        -0.017514  ...   \n",
       "Date_2020-10-01         -0.012594        -0.005505        -0.016884  ...   \n",
       "Date_2020-10-03         -0.009563        -0.004180         0.024012  ...   \n",
       "avg_price_per_kg        -0.144427        -0.059579         0.188162  ...   \n",
       "\n",
       "                  Date_2020-09-09  Date_2020-09-16  Date_2020-09-17  \\\n",
       "Weight_Kg               -0.000198         0.033551         0.030081   \n",
       "Low_Price                0.008578         0.034609         0.009833   \n",
       "High_Price               0.001218         0.024377         0.017574   \n",
       "Sales_Total             -0.021465        -0.011891        -0.008234   \n",
       "Total_Qty_Sold          -0.021791        -0.010078        -0.004524   \n",
       "...                           ...              ...              ...   \n",
       "Date_2020-09-23         -0.008427        -0.007464        -0.007797   \n",
       "Date_2020-09-28         -0.007224        -0.006398        -0.006685   \n",
       "Date_2020-10-01         -0.008427        -0.007464        -0.007797   \n",
       "Date_2020-10-03         -0.006398        -0.005667        -0.005921   \n",
       "avg_price_per_kg         0.003066         0.000372         0.012429   \n",
       "\n",
       "                  Date_2020-09-19  Date_2020-09-21  Date_2020-09-23  \\\n",
       "Weight_Kg                0.012951        -0.002203         0.011755   \n",
       "Low_Price                0.008149        -0.002319         0.010579   \n",
       "High_Price               0.017332         0.002738         0.016959   \n",
       "Sales_Total             -0.015970        -0.016685         0.004517   \n",
       "Total_Qty_Sold          -0.013067        -0.017115         0.003774   \n",
       "...                           ...              ...              ...   \n",
       "Date_2020-09-23         -0.006360        -0.008725         1.000000   \n",
       "Date_2020-09-28         -0.005452        -0.007479        -0.008427   \n",
       "Date_2020-10-01         -0.006360        -0.008725        -0.009829   \n",
       "Date_2020-10-03         -0.004829        -0.006625        -0.007464   \n",
       "avg_price_per_kg        -0.007494         0.026817        -0.006914   \n",
       "\n",
       "                  Date_2020-09-28  Date_2020-10-01  Date_2020-10-03  \\\n",
       "Weight_Kg                0.047837         0.014122        -0.020392   \n",
       "Low_Price                0.052795         0.017314        -0.016353   \n",
       "High_Price               0.055844         0.017007        -0.018776   \n",
       "Sales_Total              0.007223        -0.025153        -0.022198   \n",
       "Total_Qty_Sold          -0.011998        -0.018147        -0.017393   \n",
       "...                           ...              ...              ...   \n",
       "Date_2020-09-23         -0.008427        -0.009829        -0.007464   \n",
       "Date_2020-09-28          1.000000        -0.008427        -0.006398   \n",
       "Date_2020-10-01         -0.008427         1.000000        -0.007464   \n",
       "Date_2020-10-03         -0.006398        -0.007464         1.000000   \n",
       "avg_price_per_kg        -0.011840         0.029294         0.024877   \n",
       "\n",
       "                  avg_price_per_kg  \n",
       "Weight_Kg                -0.337886  \n",
       "Low_Price                -0.141740  \n",
       "High_Price               -0.164496  \n",
       "Sales_Total               0.108473  \n",
       "Total_Qty_Sold            0.087536  \n",
       "...                            ...  \n",
       "Date_2020-09-23          -0.006914  \n",
       "Date_2020-09-28          -0.011840  \n",
       "Date_2020-10-01           0.029294  \n",
       "Date_2020-10-03           0.024877  \n",
       "avg_price_per_kg          1.000000  \n",
       "\n",
       "[177 rows x 177 columns]"
      ],
      "text/html": "<div>\n<style scoped>\n    .dataframe tbody tr th:only-of-type {\n        vertical-align: middle;\n    }\n\n    .dataframe tbody tr th {\n        vertical-align: top;\n    }\n\n    .dataframe thead th {\n        text-align: right;\n    }\n</style>\n<table border=\"1\" class=\"dataframe\">\n  <thead>\n    <tr style=\"text-align: right;\">\n      <th></th>\n      <th>Weight_Kg</th>\n      <th>Low_Price</th>\n      <th>High_Price</th>\n      <th>Sales_Total</th>\n      <th>Total_Qty_Sold</th>\n      <th>Total_Kg_Sold</th>\n      <th>Stock_On_Hand</th>\n      <th>Container_AC030</th>\n      <th>Container_DT063</th>\n      <th>Container_EC120</th>\n      <th>...</th>\n      <th>Date_2020-09-09</th>\n      <th>Date_2020-09-16</th>\n      <th>Date_2020-09-17</th>\n      <th>Date_2020-09-19</th>\n      <th>Date_2020-09-21</th>\n      <th>Date_2020-09-23</th>\n      <th>Date_2020-09-28</th>\n      <th>Date_2020-10-01</th>\n      <th>Date_2020-10-03</th>\n      <th>avg_price_per_kg</th>\n    </tr>\n  </thead>\n  <tbody>\n    <tr>\n      <th>Weight_Kg</th>\n      <td>1.000000</td>\n      <td>0.863182</td>\n      <td>0.905852</td>\n      <td>0.180518</td>\n      <td>-0.133317</td>\n      <td>0.294117</td>\n      <td>-0.144105</td>\n      <td>-0.047765</td>\n      <td>-0.019039</td>\n      <td>-0.155910</td>\n      <td>...</td>\n      <td>-0.000198</td>\n      <td>0.033551</td>\n      <td>0.030081</td>\n      <td>0.012951</td>\n      <td>-0.002203</td>\n      <td>0.011755</td>\n      <td>0.047837</td>\n      <td>0.014122</td>\n      <td>-0.020392</td>\n      <td>-0.337886</td>\n    </tr>\n    <tr>\n      <th>Low_Price</th>\n      <td>0.863182</td>\n      <td>1.000000</td>\n      <td>0.938140</td>\n      <td>0.183230</td>\n      <td>-0.122823</td>\n      <td>0.269744</td>\n      <td>-0.127677</td>\n      <td>-0.055111</td>\n      <td>-0.021828</td>\n      <td>-0.136387</td>\n      <td>...</td>\n      <td>0.008578</td>\n      <td>0.034609</td>\n      <td>0.009833</td>\n      <td>0.008149</td>\n      <td>-0.002319</td>\n      <td>0.010579</td>\n      <td>0.052795</td>\n      <td>0.017314</td>\n      <td>-0.016353</td>\n      <td>-0.141740</td>\n    </tr>\n    <tr>\n      <th>High_Price</th>\n      <td>0.905852</td>\n      <td>0.938140</td>\n      <td>1.000000</td>\n      <td>0.265672</td>\n      <td>-0.096456</td>\n      <td>0.372282</td>\n      <td>-0.094174</td>\n      <td>-0.059450</td>\n      <td>-0.024103</td>\n      <td>-0.131819</td>\n      <td>...</td>\n      <td>0.001218</td>\n      <td>0.024377</td>\n      <td>0.017574</td>\n      <td>0.017332</td>\n      <td>0.002738</td>\n      <td>0.016959</td>\n      <td>0.055844</td>\n      <td>0.017007</td>\n      <td>-0.018776</td>\n      <td>-0.164496</td>\n    </tr>\n    <tr>\n      <th>Sales_Total</th>\n      <td>0.180518</td>\n      <td>0.183230</td>\n      <td>0.265672</td>\n      <td>1.000000</td>\n      <td>0.771865</td>\n      <td>0.962338</td>\n      <td>0.284693</td>\n      <td>-0.056335</td>\n      <td>-0.028371</td>\n      <td>0.072059</td>\n      <td>...</td>\n      <td>-0.021465</td>\n      <td>-0.011891</td>\n      <td>-0.008234</td>\n      <td>-0.015970</td>\n      <td>-0.016685</td>\n      <td>0.004517</td>\n      <td>0.007223</td>\n      <td>-0.025153</td>\n      <td>-0.022198</td>\n      <td>0.108473</td>\n    </tr>\n    <tr>\n      <th>Total_Qty_Sold</th>\n      <td>-0.133317</td>\n      <td>-0.122823</td>\n      <td>-0.096456</td>\n      <td>0.771865</td>\n      <td>1.000000</td>\n      <td>0.651440</td>\n      <td>0.390168</td>\n      <td>-0.003183</td>\n      <td>-0.029978</td>\n      <td>0.177089</td>\n      <td>...</td>\n      <td>-0.021791</td>\n      <td>-0.010078</td>\n      <td>-0.004524</td>\n      <td>-0.013067</td>\n      <td>-0.017115</td>\n      <td>0.003774</td>\n      <td>-0.011998</td>\n      <td>-0.018147</td>\n      <td>-0.017393</td>\n      <td>0.087536</td>\n    </tr>\n    <tr>\n      <th>...</th>\n      <td>...</td>\n      <td>...</td>\n      <td>...</td>\n      <td>...</td>\n      <td>...</td>\n      <td>...</td>\n      <td>...</td>\n      <td>...</td>\n      <td>...</td>\n      <td>...</td>\n      <td>...</td>\n      <td>...</td>\n      <td>...</td>\n      <td>...</td>\n      <td>...</td>\n      <td>...</td>\n      <td>...</td>\n      <td>...</td>\n      <td>...</td>\n      <td>...</td>\n      <td>...</td>\n    </tr>\n    <tr>\n      <th>Date_2020-09-23</th>\n      <td>0.011755</td>\n      <td>0.010579</td>\n      <td>0.016959</td>\n      <td>0.004517</td>\n      <td>0.003774</td>\n      <td>0.007462</td>\n      <td>0.007288</td>\n      <td>-0.012594</td>\n      <td>0.088758</td>\n      <td>0.007933</td>\n      <td>...</td>\n      <td>-0.008427</td>\n      <td>-0.007464</td>\n      <td>-0.007797</td>\n      <td>-0.006360</td>\n      <td>-0.008725</td>\n      <td>1.000000</td>\n      <td>-0.008427</td>\n      <td>-0.009829</td>\n      <td>-0.007464</td>\n      <td>-0.006914</td>\n    </tr>\n    <tr>\n      <th>Date_2020-09-28</th>\n      <td>0.047837</td>\n      <td>0.052795</td>\n      <td>0.055844</td>\n      <td>0.007223</td>\n      <td>-0.011998</td>\n      <td>0.016391</td>\n      <td>0.024036</td>\n      <td>-0.010797</td>\n      <td>-0.004719</td>\n      <td>-0.017514</td>\n      <td>...</td>\n      <td>-0.007224</td>\n      <td>-0.006398</td>\n      <td>-0.006685</td>\n      <td>-0.005452</td>\n      <td>-0.007479</td>\n      <td>-0.008427</td>\n      <td>1.000000</td>\n      <td>-0.008427</td>\n      <td>-0.006398</td>\n      <td>-0.011840</td>\n    </tr>\n    <tr>\n      <th>Date_2020-10-01</th>\n      <td>0.014122</td>\n      <td>0.017314</td>\n      <td>0.017007</td>\n      <td>-0.025153</td>\n      <td>-0.018147</td>\n      <td>-0.023714</td>\n      <td>-0.026142</td>\n      <td>-0.012594</td>\n      <td>-0.005505</td>\n      <td>-0.016884</td>\n      <td>...</td>\n      <td>-0.008427</td>\n      <td>-0.007464</td>\n      <td>-0.007797</td>\n      <td>-0.006360</td>\n      <td>-0.008725</td>\n      <td>-0.009829</td>\n      <td>-0.008427</td>\n      <td>1.000000</td>\n      <td>-0.007464</td>\n      <td>0.029294</td>\n    </tr>\n    <tr>\n      <th>Date_2020-10-03</th>\n      <td>-0.020392</td>\n      <td>-0.016353</td>\n      <td>-0.018776</td>\n      <td>-0.022198</td>\n      <td>-0.017393</td>\n      <td>-0.022634</td>\n      <td>-0.010955</td>\n      <td>-0.009563</td>\n      <td>-0.004180</td>\n      <td>0.024012</td>\n      <td>...</td>\n      <td>-0.006398</td>\n      <td>-0.005667</td>\n      <td>-0.005921</td>\n      <td>-0.004829</td>\n      <td>-0.006625</td>\n      <td>-0.007464</td>\n      <td>-0.006398</td>\n      <td>-0.007464</td>\n      <td>1.000000</td>\n      <td>0.024877</td>\n    </tr>\n    <tr>\n      <th>avg_price_per_kg</th>\n      <td>-0.337886</td>\n      <td>-0.141740</td>\n      <td>-0.164496</td>\n      <td>0.108473</td>\n      <td>0.087536</td>\n      <td>-0.001007</td>\n      <td>0.105028</td>\n      <td>-0.144427</td>\n      <td>-0.059579</td>\n      <td>0.188162</td>\n      <td>...</td>\n      <td>0.003066</td>\n      <td>0.000372</td>\n      <td>0.012429</td>\n      <td>-0.007494</td>\n      <td>0.026817</td>\n      <td>-0.006914</td>\n      <td>-0.011840</td>\n      <td>0.029294</td>\n      <td>0.024877</td>\n      <td>1.000000</td>\n    </tr>\n  </tbody>\n</table>\n<p>177 rows × 177 columns</p>\n</div>"
     },
     "metadata": {},
     "execution_count": 29
    }
   ],
   "source": [
    "dummy_df_AGD.corr()"
   ]
  },
  {
   "cell_type": "markdown",
   "metadata": {},
   "source": [
    "Let's make a visualisation for easier interpretation."
   ]
  },
  {
   "cell_type": "code",
   "execution_count": 30,
   "metadata": {},
   "outputs": [],
   "source": [
    "#heatmap = sns.heatmap(dummy_df_AGD.corr(), vmin=-1, vmax=1, annot=True)\n",
    "\n",
    "#Runnig this code is not a very good idea as there are way too many variables"
   ]
  },
  {
   "cell_type": "markdown",
   "metadata": {},
   "source": [
    "### Add some more visualisations!\n",
    "\n",
    "At this point, we should think which variables are redundant.\n",
    "\n",
    "For instance, do we want to keep total qty sold AND totla kg sold? Are they not the same in some sense?\n",
    "\n",
    "Also, we should think about which variables / features are relavant in making our model. (Feature selection)"
   ]
  },
  {
   "cell_type": "markdown",
   "metadata": {},
   "source": [
    "# 4. Model building\n",
    "\n",
    "How do we build a multivariate model? I don't know yet\n",
    "\n",
    "The formula for a simple regression is:\n",
    "\n",
    "$$\\hat{y}_i = a + bx_i$$   "
   ]
  },
  {
   "source": [
    "# Training"
   ],
   "cell_type": "markdown",
   "metadata": {}
  },
  {
   "source": [
    "## Preprocessing"
   ],
   "cell_type": "markdown",
   "metadata": {}
  },
  {
   "cell_type": "code",
   "execution_count": 31,
   "metadata": {},
   "outputs": [
    {
     "output_type": "stream",
     "name": "stdout",
     "text": [
      "Your selected dataframe has 177 columns.\nThere are 0 columns that have missing values.\n"
     ]
    },
    {
     "output_type": "execute_result",
     "data": {
      "text/plain": [
       "Empty DataFrame\n",
       "Columns: [Missing Values, % of Total Values]\n",
       "Index: []"
      ],
      "text/html": "<div>\n<style scoped>\n    .dataframe tbody tr th:only-of-type {\n        vertical-align: middle;\n    }\n\n    .dataframe tbody tr th {\n        vertical-align: top;\n    }\n\n    .dataframe thead th {\n        text-align: right;\n    }\n</style>\n<table border=\"1\" class=\"dataframe\">\n  <thead>\n    <tr style=\"text-align: right;\">\n      <th></th>\n      <th>Missing Values</th>\n      <th>% of Total Values</th>\n    </tr>\n  </thead>\n  <tbody>\n  </tbody>\n</table>\n</div>"
     },
     "metadata": {},
     "execution_count": 31
    }
   ],
   "source": [
    "missing_values_table(dummy_df_AGD)\n",
    "\n"
   ]
  },
  {
   "source": [
    "## Making Predictions"
   ],
   "cell_type": "markdown",
   "metadata": {}
  },
  {
   "cell_type": "code",
   "execution_count": 6,
   "metadata": {},
   "outputs": [],
   "source": [
    "#Function to fit data, make prediction and evaluate model\n",
    "\n",
    "def rmse(y_test, y_pred):\n",
    "    return np.sqrt(mean_squared_error(y_pred, y_test))\n",
    "\n",
    "def r_squared(y_test, y_pred):\n",
    "    return r2_score(y_test, y_pred)\n",
    "\n",
    "def fit_and_eval(model, X, y):\n",
    "    X_train, X_test, y_train, y_test = train_test_split(X, y, test_size = 0.3, random_state = 50)\n",
    "    \n",
    "    #Training\n",
    "    model.fit(X_train, y_train)\n",
    "\n",
    "    #Predictions\n",
    "    train_pred = model.predict(X_train)\n",
    "    test_pred = model.predict(X_test)\n",
    "\n",
    "    train_rmse = rmse(y_train, train_pred)\n",
    "    test_rmse = rmse(y_test, test_pred)\n",
    "\n",
    "    train_r2 = r_squared(y_train, train_pred)\n",
    "    test_r2 = r_squared(y_test, test_pred)\n",
    "\n",
    "    df = {'Train RMSE': train_rmse,'Train R^2':train_r2,'Test RMSE': test_rmse,'Test R^2':test_r2}\n",
    "\n",
    "    return df\n"
   ]
  },
  {
   "cell_type": "code",
   "execution_count": 7,
   "metadata": {},
   "outputs": [
    {
     "output_type": "execute_result",
     "data": {
      "text/plain": [
       "(1952,)"
      ]
     },
     "metadata": {},
     "execution_count": 7
    }
   ],
   "source": [
    "model = LinearRegression(n_jobs = -1)\n",
    "y = df_AGD['avg_price_per_kg']\n",
    "y.shape"
   ]
  },
  {
   "cell_type": "code",
   "execution_count": null,
   "metadata": {},
   "outputs": [],
   "source": [
    "X = df_AGD"
   ]
  },
  {
   "cell_type": "markdown",
   "metadata": {},
   "source": [
    "# Deploying our model!"
   ]
  },
  {
   "cell_type": "code",
   "execution_count": null,
   "metadata": {},
   "outputs": [],
   "source": []
  },
  {
   "source": [
    "# Logical Flow of builing a regression model\n",
    "\n",
    "1. Data collection and cleaning.\n",
    "\n",
    "    a. Collect data, look for empty or duplicate values\n",
    "\n",
    "    b. Replace empty cells with either mean/median \n",
    "\n",
    "2. EDA\n",
    "\n",
    "    a. Look at summary statistics for overview of our data\n",
    "\n",
    "    b. Find relationship between the predictor-response\n",
    "\n",
    "    c. Find autocorrelation among the predictors\n",
    "\n",
    "    d. (?) Dummy encoding\n",
    "\n",
    "3. Model builing\n",
    "\n",
    "    a. Train/test split\n",
    "    \n",
    "    b. Fitting simple linear Regression\n",
    "\n",
    "    c. Fitting multivariate linear Regression\n",
    "\n",
    "    d. Feature selection\n",
    "\n",
    "    e. Save and restore model\n",
    "\n",
    "    e. Regularisation"
   ],
   "cell_type": "markdown",
   "metadata": {}
  },
  {
   "cell_type": "code",
   "execution_count": null,
   "metadata": {},
   "outputs": [],
   "source": []
  }
 ],
 "metadata": {
  "kernelspec": {
   "name": "python385jvsc74a57bd06072aa131de45309d5345e3c803c7c1f27b211e85c8338376858caa5ba97ea8a",
   "display_name": "Python 3.8.5 64-bit ('base': conda)"
  },
  "language_info": {
   "codemirror_mode": {
    "name": "ipython",
    "version": 3
   },
   "file_extension": ".py",
   "mimetype": "text/x-python",
   "name": "python",
   "nbconvert_exporter": "python",
   "pygments_lexer": "ipython3",
   "version": "3.8.5"
  }
 },
 "nbformat": 4,
 "nbformat_minor": 4
}