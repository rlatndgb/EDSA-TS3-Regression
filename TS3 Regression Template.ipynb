{
 "cells": [
  {
   "attachments": {
    "Gold%20apple.png": {
     "image/png": "[encoded data removed]"
    }
   },
   "cell_type": "markdown",
   "metadata": {},
   "source": [
    "# EDSA Apple Price Challenge - TS3 Regression\n",
    "\n",
    "![Gold%20apple.png](attachment:Gold%20apple.png)"
   ]
  },
  {
   "cell_type": "markdown",
   "metadata": {},
   "source": [
    "# Introduction\n",
    "\n",
    "We are going to construct a regression algorithm that will accurately predict the price of the Golden Delicious Apples given the conditions. \n",
    "\n",
    "We will embark on a journey to explore the following:"
   ]
  },
  {
   "cell_type": "markdown",
   "metadata": {},
   "source": [
    "\n",
    "### 1. Collecting/downloading the golden apple data (Data Collection)\n",
    "   \n",
    "### 2. Review the dataset for abnormality and make ammendments where necessary (Data cleaning)\n",
    "a. Null values \n",
    "\n",
    "b. Missing Values\n",
    "\n",
    "c. Duplicate values        \n",
    "        \n",
    "### 3. Investigate the data through descriptive statistics and visualisation tools (EDA)\n",
    "a. Understand the pattern in the data\n",
    "\n",
    "b. Determine relationship between the variables\n",
    "\n",
    "c. Discover outliers in the data        \n",
    "        \n",
    "### 3. Build the model that will allow us to accurately predict the price of the Golden Apples (Model building)\n",
    "a. Select the variables that are relevant in making the price decisions\n",
    "\n",
    "b. Try different algorithms to find the best model\n",
    "\n",
    "c. Train our best model \n",
    "\n",
    "### 4. Deploy our model, and enter the Kaggle competition!"
   ]
  },
  {
   "cell_type": "markdown",
   "metadata": {},
   "source": [
    "# Importing Python libraries\n",
    "\n",
    "We will first import all the libraries needed for our journey"
   ]
  },
  {
   "cell_type": "code",
   "execution_count": 29,
   "metadata": {},
   "outputs": [],
   "source": [
    "import numpy as np\n",
    "import pandas as pd\n",
    "\n",
    "# Visualisation\n",
    "import matplotlib.pyplot as plt\n",
    "import seaborn as sns\n",
    "\n",
    "# Regression\n",
    "from sklearn.linear_model import LinearRegression\n",
    "\n",
    "#Add more as we need"
   ]
  },
  {
   "cell_type": "markdown",
   "metadata": {},
   "source": [
    "# 1. Data Collection"
   ]
  },
  {
   "cell_type": "markdown",
   "metadata": {},
   "source": [
    "# Importing the data\n",
    "\n",
    "We will import our data here"
   ]
  },
  {
   "cell_type": "code",
   "execution_count": 17,
   "metadata": {},
   "outputs": [],
   "source": [
    "#Importing the test dataset from Git repo\n",
    "\n",
    "df = pd.read_csv('https://raw.githubusercontent.com/rlatndgb/EDSA-TS3-Regression/main/df-test_set.csv', index_col=0)"
   ]
  },
  {
   "source": [
    "asdfasdfasdfasdfasd"
   ],
   "cell_type": "markdown",
   "metadata": {}
  },
  {
   "cell_type": "code",
   "execution_count": 21,
   "metadata": {},
   "outputs": [
    {
     "data": {
      "text/html": [
       "<div>\n",
       "<style scoped>\n",
       "    .dataframe tbody tr th:only-of-type {\n",
       "        vertical-align: middle;\n",
       "    }\n",
       "\n",
       "    .dataframe tbody tr th {\n",
       "        vertical-align: top;\n",
       "    }\n",
       "\n",
       "    .dataframe thead th {\n",
       "        text-align: right;\n",
       "    }\n",
       "</style>\n",
       "<table border=\"1\" class=\"dataframe\">\n",
       "  <thead>\n",
       "    <tr style=\"text-align: right;\">\n",
       "      <th></th>\n",
       "      <th>Province</th>\n",
       "      <th>Container</th>\n",
       "      <th>Size_Grade</th>\n",
       "      <th>Weight_Kg</th>\n",
       "      <th>Commodities</th>\n",
       "      <th>Date</th>\n",
       "      <th>Low_Price</th>\n",
       "      <th>High_Price</th>\n",
       "      <th>Sales_Total</th>\n",
       "      <th>Total_Qty_Sold</th>\n",
       "      <th>Total_Kg_Sold</th>\n",
       "      <th>Stock_On_Hand</th>\n",
       "    </tr>\n",
       "    <tr>\n",
       "      <th>Index</th>\n",
       "      <th></th>\n",
       "      <th></th>\n",
       "      <th></th>\n",
       "      <th></th>\n",
       "      <th></th>\n",
       "      <th></th>\n",
       "      <th></th>\n",
       "      <th></th>\n",
       "      <th></th>\n",
       "      <th></th>\n",
       "      <th></th>\n",
       "      <th></th>\n",
       "    </tr>\n",
       "  </thead>\n",
       "  <tbody>\n",
       "    <tr>\n",
       "      <th>1</th>\n",
       "      <td>W.CAPE-BERGRIVER ETC</td>\n",
       "      <td>EC120</td>\n",
       "      <td>1M</td>\n",
       "      <td>12.0</td>\n",
       "      <td>APPLE GOLDEN DELICIOUS</td>\n",
       "      <td>2020-07-09</td>\n",
       "      <td>128.0</td>\n",
       "      <td>136.0</td>\n",
       "      <td>5008.0</td>\n",
       "      <td>38</td>\n",
       "      <td>456.0</td>\n",
       "      <td>0</td>\n",
       "    </tr>\n",
       "    <tr>\n",
       "      <th>2</th>\n",
       "      <td>W.CAPE-BERGRIVER ETC</td>\n",
       "      <td>M4183</td>\n",
       "      <td>1X</td>\n",
       "      <td>18.3</td>\n",
       "      <td>APPLE GOLDEN DELICIOUS</td>\n",
       "      <td>2020-01-20</td>\n",
       "      <td>220.0</td>\n",
       "      <td>220.0</td>\n",
       "      <td>1760.0</td>\n",
       "      <td>8</td>\n",
       "      <td>146.4</td>\n",
       "      <td>2</td>\n",
       "    </tr>\n",
       "    <tr>\n",
       "      <th>3</th>\n",
       "      <td>W.CAPE-BERGRIVER ETC</td>\n",
       "      <td>EC120</td>\n",
       "      <td>1S</td>\n",
       "      <td>12.0</td>\n",
       "      <td>APPLE GOLDEN DELICIOUS</td>\n",
       "      <td>2020-08-19</td>\n",
       "      <td>120.0</td>\n",
       "      <td>120.0</td>\n",
       "      <td>720.0</td>\n",
       "      <td>6</td>\n",
       "      <td>72.0</td>\n",
       "      <td>45</td>\n",
       "    </tr>\n",
       "    <tr>\n",
       "      <th>4</th>\n",
       "      <td>W.CAPE-BERGRIVER ETC</td>\n",
       "      <td>M4183</td>\n",
       "      <td>1M</td>\n",
       "      <td>18.3</td>\n",
       "      <td>APPLE GOLDEN DELICIOUS</td>\n",
       "      <td>2020-05-06</td>\n",
       "      <td>160.0</td>\n",
       "      <td>160.0</td>\n",
       "      <td>160.0</td>\n",
       "      <td>1</td>\n",
       "      <td>18.3</td>\n",
       "      <td>8</td>\n",
       "    </tr>\n",
       "    <tr>\n",
       "      <th>5</th>\n",
       "      <td>W.CAPE-BERGRIVER ETC</td>\n",
       "      <td>M4183</td>\n",
       "      <td>1L</td>\n",
       "      <td>18.3</td>\n",
       "      <td>APPLE GOLDEN DELICIOUS</td>\n",
       "      <td>2020-05-04</td>\n",
       "      <td>140.0</td>\n",
       "      <td>160.0</td>\n",
       "      <td>14140.0</td>\n",
       "      <td>100</td>\n",
       "      <td>1830.0</td>\n",
       "      <td>19</td>\n",
       "    </tr>\n",
       "  </tbody>\n",
       "</table>\n",
       "</div>"
      ],
      "text/plain": [
       "                   Province Container Size_Grade  Weight_Kg  \\\n",
       "Index                                                         \n",
       "1      W.CAPE-BERGRIVER ETC     EC120         1M       12.0   \n",
       "2      W.CAPE-BERGRIVER ETC     M4183         1X       18.3   \n",
       "3      W.CAPE-BERGRIVER ETC     EC120         1S       12.0   \n",
       "4      W.CAPE-BERGRIVER ETC     M4183         1M       18.3   \n",
       "5      W.CAPE-BERGRIVER ETC     M4183         1L       18.3   \n",
       "\n",
       "                  Commodities        Date  Low_Price  High_Price  Sales_Total  \\\n",
       "Index                                                                           \n",
       "1      APPLE GOLDEN DELICIOUS  2020-07-09      128.0       136.0       5008.0   \n",
       "2      APPLE GOLDEN DELICIOUS  2020-01-20      220.0       220.0       1760.0   \n",
       "3      APPLE GOLDEN DELICIOUS  2020-08-19      120.0       120.0        720.0   \n",
       "4      APPLE GOLDEN DELICIOUS  2020-05-06      160.0       160.0        160.0   \n",
       "5      APPLE GOLDEN DELICIOUS  2020-05-04      140.0       160.0      14140.0   \n",
       "\n",
       "       Total_Qty_Sold  Total_Kg_Sold  Stock_On_Hand  \n",
       "Index                                                \n",
       "1                  38          456.0              0  \n",
       "2                   8          146.4              2  \n",
       "3                   6           72.0             45  \n",
       "4                   1           18.3              8  \n",
       "5                 100         1830.0             19  "
      ]
     },
     "execution_count": 21,
     "metadata": {},
     "output_type": "execute_result"
    }
   ],
   "source": [
    "#Quick overview of our first 10 data\n",
    "df.head()"
   ]
  },
  {
   "cell_type": "markdown",
   "metadata": {},
   "source": [
    "# 2. Data Cleaning"
   ]
  },
  {
   "cell_type": "markdown",
   "metadata": {},
   "source": [
    "Let's have a quick overview of our dataset!"
   ]
  },
  {
   "cell_type": "code",
   "execution_count": 19,
   "metadata": {},
   "outputs": [
    {
     "data": {
      "text/plain": [
       "(685, 12)"
      ]
     },
     "execution_count": 19,
     "metadata": {},
     "output_type": "execute_result"
    }
   ],
   "source": [
    "#Check the shape of our df\n",
    "df.shape"
   ]
  },
  {
   "cell_type": "markdown",
   "metadata": {},
   "source": [
    "Our data consists of **685 rows** and **12 columns**"
   ]
  },
  {
   "cell_type": "code",
   "execution_count": 16,
   "metadata": {},
   "outputs": [
    {
     "name": "stdout",
     "output_type": "stream",
     "text": [
      "<class 'pandas.core.frame.DataFrame'>\n",
      "RangeIndex: 685 entries, 0 to 684\n",
      "Data columns (total 13 columns):\n",
      " #   Column          Non-Null Count  Dtype  \n",
      "---  ------          --------------  -----  \n",
      " 0   Index           685 non-null    int64  \n",
      " 1   Province        685 non-null    object \n",
      " 2   Container       685 non-null    object \n",
      " 3   Size_Grade      685 non-null    object \n",
      " 4   Weight_Kg       685 non-null    float64\n",
      " 5   Commodities     685 non-null    object \n",
      " 6   Date            685 non-null    object \n",
      " 7   Low_Price       685 non-null    float64\n",
      " 8   High_Price      685 non-null    float64\n",
      " 9   Sales_Total     685 non-null    float64\n",
      " 10  Total_Qty_Sold  685 non-null    int64  \n",
      " 11  Total_Kg_Sold   685 non-null    float64\n",
      " 12  Stock_On_Hand   685 non-null    int64  \n",
      "dtypes: float64(5), int64(3), object(5)\n",
      "memory usage: 69.7+ KB\n"
     ]
    }
   ],
   "source": [
    "#Detailed information of our data\n",
    "df.info()"
   ]
  },
  {
   "cell_type": "markdown",
   "metadata": {},
   "source": [
    "The info command allowed us to confirm that there are **12** variables, some **categorical** and some **numerical**.\n",
    "We do not have any null values, however we will reassure using another command"
   ]
  },
  {
   "cell_type": "code",
   "execution_count": 20,
   "metadata": {},
   "outputs": [
    {
     "data": {
      "text/plain": [
       "Province          0\n",
       "Container         0\n",
       "Size_Grade        0\n",
       "Weight_Kg         0\n",
       "Commodities       0\n",
       "Date              0\n",
       "Low_Price         0\n",
       "High_Price        0\n",
       "Sales_Total       0\n",
       "Total_Qty_Sold    0\n",
       "Total_Kg_Sold     0\n",
       "Stock_On_Hand     0\n",
       "dtype: int64"
      ]
     },
     "execution_count": 20,
     "metadata": {},
     "output_type": "execute_result"
    }
   ],
   "source": [
    "df.isnull().sum()"
   ]
  },
  {
   "cell_type": "markdown",
   "metadata": {},
   "source": [
    "There are **no** null values in our data set. Lovely!"
   ]
  },
  {
   "cell_type": "markdown",
   "metadata": {},
   "source": [
    "# 3. Exploratory Data Analysis"
   ]
  },
  {
   "cell_type": "markdown",
   "metadata": {},
   "source": [
    "Let's have a look at some descriptive statistics of our data.\n",
    "\n",
    "This includes, the **count, mean, standard deviation, minimum, Q1, median, Q3 and maximum value**."
   ]
  },
  {
   "cell_type": "code",
   "execution_count": 23,
   "metadata": {},
   "outputs": [
    {
     "data": {
      "text/html": [
       "<div>\n",
       "<style scoped>\n",
       "    .dataframe tbody tr th:only-of-type {\n",
       "        vertical-align: middle;\n",
       "    }\n",
       "\n",
       "    .dataframe tbody tr th {\n",
       "        vertical-align: top;\n",
       "    }\n",
       "\n",
       "    .dataframe thead th {\n",
       "        text-align: right;\n",
       "    }\n",
       "</style>\n",
       "<table border=\"1\" class=\"dataframe\">\n",
       "  <thead>\n",
       "    <tr style=\"text-align: right;\">\n",
       "      <th></th>\n",
       "      <th>Weight_Kg</th>\n",
       "      <th>Low_Price</th>\n",
       "      <th>High_Price</th>\n",
       "      <th>Sales_Total</th>\n",
       "      <th>Total_Qty_Sold</th>\n",
       "      <th>Total_Kg_Sold</th>\n",
       "      <th>Stock_On_Hand</th>\n",
       "    </tr>\n",
       "  </thead>\n",
       "  <tbody>\n",
       "    <tr>\n",
       "      <th>count</th>\n",
       "      <td>685.00</td>\n",
       "      <td>685.00</td>\n",
       "      <td>685.00</td>\n",
       "      <td>685.00</td>\n",
       "      <td>685.00</td>\n",
       "      <td>685.00</td>\n",
       "      <td>685.00</td>\n",
       "    </tr>\n",
       "    <tr>\n",
       "      <th>mean</th>\n",
       "      <td>34.14</td>\n",
       "      <td>164.20</td>\n",
       "      <td>195.59</td>\n",
       "      <td>18788.11</td>\n",
       "      <td>174.88</td>\n",
       "      <td>2725.40</td>\n",
       "      <td>439.25</td>\n",
       "    </tr>\n",
       "    <tr>\n",
       "      <th>std</th>\n",
       "      <td>87.58</td>\n",
       "      <td>355.17</td>\n",
       "      <td>389.11</td>\n",
       "      <td>33951.59</td>\n",
       "      <td>299.35</td>\n",
       "      <td>5059.12</td>\n",
       "      <td>715.99</td>\n",
       "    </tr>\n",
       "    <tr>\n",
       "      <th>min</th>\n",
       "      <td>3.00</td>\n",
       "      <td>10.00</td>\n",
       "      <td>10.00</td>\n",
       "      <td>10.00</td>\n",
       "      <td>1.00</td>\n",
       "      <td>6.30</td>\n",
       "      <td>0.00</td>\n",
       "    </tr>\n",
       "    <tr>\n",
       "      <th>25%</th>\n",
       "      <td>9.00</td>\n",
       "      <td>50.00</td>\n",
       "      <td>64.00</td>\n",
       "      <td>1300.00</td>\n",
       "      <td>13.00</td>\n",
       "      <td>204.00</td>\n",
       "      <td>20.00</td>\n",
       "    </tr>\n",
       "    <tr>\n",
       "      <th>50%</th>\n",
       "      <td>12.00</td>\n",
       "      <td>80.00</td>\n",
       "      <td>112.00</td>\n",
       "      <td>5520.00</td>\n",
       "      <td>62.00</td>\n",
       "      <td>860.10</td>\n",
       "      <td>153.00</td>\n",
       "    </tr>\n",
       "    <tr>\n",
       "      <th>75%</th>\n",
       "      <td>18.30</td>\n",
       "      <td>128.00</td>\n",
       "      <td>160.00</td>\n",
       "      <td>21176.00</td>\n",
       "      <td>200.00</td>\n",
       "      <td>3033.00</td>\n",
       "      <td>516.00</td>\n",
       "    </tr>\n",
       "    <tr>\n",
       "      <th>max</th>\n",
       "      <td>400.00</td>\n",
       "      <td>2400.00</td>\n",
       "      <td>2400.00</td>\n",
       "      <td>308010.00</td>\n",
       "      <td>2774.00</td>\n",
       "      <td>47200.00</td>\n",
       "      <td>6827.00</td>\n",
       "    </tr>\n",
       "  </tbody>\n",
       "</table>\n",
       "</div>"
      ],
      "text/plain": [
       "       Weight_Kg  Low_Price  High_Price  Sales_Total  Total_Qty_Sold  \\\n",
       "count     685.00     685.00      685.00       685.00          685.00   \n",
       "mean       34.14     164.20      195.59     18788.11          174.88   \n",
       "std        87.58     355.17      389.11     33951.59          299.35   \n",
       "min         3.00      10.00       10.00        10.00            1.00   \n",
       "25%         9.00      50.00       64.00      1300.00           13.00   \n",
       "50%        12.00      80.00      112.00      5520.00           62.00   \n",
       "75%        18.30     128.00      160.00     21176.00          200.00   \n",
       "max       400.00    2400.00     2400.00    308010.00         2774.00   \n",
       "\n",
       "       Total_Kg_Sold  Stock_On_Hand  \n",
       "count         685.00         685.00  \n",
       "mean         2725.40         439.25  \n",
       "std          5059.12         715.99  \n",
       "min             6.30           0.00  \n",
       "25%           204.00          20.00  \n",
       "50%           860.10         153.00  \n",
       "75%          3033.00         516.00  \n",
       "max         47200.00        6827.00  "
      ]
     },
     "execution_count": 23,
     "metadata": {},
     "output_type": "execute_result"
    }
   ],
   "source": [
    "round(df.describe(), 2)"
   ]
  },
  {
   "cell_type": "markdown",
   "metadata": {},
   "source": [
    "You can also investigate the descriptive statistics of individual columns by:\n",
    "\n",
    "    df['column'].describe()"
   ]
  },
  {
   "cell_type": "markdown",
   "metadata": {},
   "source": [
    "Is our data in Gausian form? Let's have a look at the skewness and kurtosis of our data!\n",
    "\n",
    "Kurtosis is the measure of outliers: **High kurtosis (>3)** and **low kurtosis (3>)** indicates large and lack of outliers, respectively.\n",
    "\n",
    "Skewness indicates the symmetry of the data"
   ]
  },
  {
   "cell_type": "code",
   "execution_count": 24,
   "metadata": {},
   "outputs": [
    {
     "data": {
      "text/plain": [
       "Weight_Kg         13.611804\n",
       "Low_Price         20.126362\n",
       "High_Price        17.610473\n",
       "Sales_Total       19.626133\n",
       "Total_Qty_Sold    19.531658\n",
       "Total_Kg_Sold     24.423404\n",
       "Stock_On_Hand     14.868371\n",
       "dtype: float64"
      ]
     },
     "execution_count": 24,
     "metadata": {},
     "output_type": "execute_result"
    }
   ],
   "source": [
    "df.kurtosis()"
   ]
  },
  {
   "cell_type": "markdown",
   "metadata": {},
   "source": [
    "The kurtosis shows that there are likely be many outliers in our dataset. We will bear this in our mind when we visualise the data. "
   ]
  },
  {
   "cell_type": "code",
   "execution_count": 25,
   "metadata": {},
   "outputs": [
    {
     "data": {
      "text/plain": [
       "Weight_Kg         3.941111\n",
       "Low_Price         4.585123\n",
       "High_Price        4.326922\n",
       "Sales_Total       3.839600\n",
       "Total_Qty_Sold    3.710551\n",
       "Total_Kg_Sold     4.270965\n",
       "Stock_On_Hand     3.197405\n",
       "dtype: float64"
      ]
     },
     "execution_count": 25,
     "metadata": {},
     "output_type": "execute_result"
    }
   ],
   "source": [
    "df.skew()"
   ]
  },
  {
   "cell_type": "markdown",
   "metadata": {},
   "source": [
    "All our data have skewnesss higher thatn 1. Which tells us that it is positively skewed."
   ]
  },
  {
   "cell_type": "markdown",
   "metadata": {},
   "source": [
    "Let's determine if there are any linear relationship betweem using Pearson's correlation. \n",
    "\n",
    "For now, we are assumung that our data is normal (we will log transform it later)"
   ]
  },
  {
   "cell_type": "code",
   "execution_count": 26,
   "metadata": {},
   "outputs": [
    {
     "data": {
      "text/html": [
       "<div>\n",
       "<style scoped>\n",
       "    .dataframe tbody tr th:only-of-type {\n",
       "        vertical-align: middle;\n",
       "    }\n",
       "\n",
       "    .dataframe tbody tr th {\n",
       "        vertical-align: top;\n",
       "    }\n",
       "\n",
       "    .dataframe thead th {\n",
       "        text-align: right;\n",
       "    }\n",
       "</style>\n",
       "<table border=\"1\" class=\"dataframe\">\n",
       "  <thead>\n",
       "    <tr style=\"text-align: right;\">\n",
       "      <th></th>\n",
       "      <th>Weight_Kg</th>\n",
       "      <th>Low_Price</th>\n",
       "      <th>High_Price</th>\n",
       "      <th>Sales_Total</th>\n",
       "      <th>Total_Qty_Sold</th>\n",
       "      <th>Total_Kg_Sold</th>\n",
       "      <th>Stock_On_Hand</th>\n",
       "    </tr>\n",
       "  </thead>\n",
       "  <tbody>\n",
       "    <tr>\n",
       "      <th>Weight_Kg</th>\n",
       "      <td>1.000000</td>\n",
       "      <td>0.894615</td>\n",
       "      <td>0.925537</td>\n",
       "      <td>0.140129</td>\n",
       "      <td>-0.123981</td>\n",
       "      <td>0.255056</td>\n",
       "      <td>-0.133762</td>\n",
       "    </tr>\n",
       "    <tr>\n",
       "      <th>Low_Price</th>\n",
       "      <td>0.894615</td>\n",
       "      <td>1.000000</td>\n",
       "      <td>0.963068</td>\n",
       "      <td>0.137629</td>\n",
       "      <td>-0.126267</td>\n",
       "      <td>0.223185</td>\n",
       "      <td>-0.124254</td>\n",
       "    </tr>\n",
       "    <tr>\n",
       "      <th>High_Price</th>\n",
       "      <td>0.925537</td>\n",
       "      <td>0.963068</td>\n",
       "      <td>1.000000</td>\n",
       "      <td>0.206280</td>\n",
       "      <td>-0.102852</td>\n",
       "      <td>0.315313</td>\n",
       "      <td>-0.107934</td>\n",
       "    </tr>\n",
       "    <tr>\n",
       "      <th>Sales_Total</th>\n",
       "      <td>0.140129</td>\n",
       "      <td>0.137629</td>\n",
       "      <td>0.206280</td>\n",
       "      <td>1.000000</td>\n",
       "      <td>0.830766</td>\n",
       "      <td>0.967193</td>\n",
       "      <td>0.398349</td>\n",
       "    </tr>\n",
       "    <tr>\n",
       "      <th>Total_Qty_Sold</th>\n",
       "      <td>-0.123981</td>\n",
       "      <td>-0.126267</td>\n",
       "      <td>-0.102852</td>\n",
       "      <td>0.830766</td>\n",
       "      <td>1.000000</td>\n",
       "      <td>0.752598</td>\n",
       "      <td>0.466751</td>\n",
       "    </tr>\n",
       "    <tr>\n",
       "      <th>Total_Kg_Sold</th>\n",
       "      <td>0.255056</td>\n",
       "      <td>0.223185</td>\n",
       "      <td>0.315313</td>\n",
       "      <td>0.967193</td>\n",
       "      <td>0.752598</td>\n",
       "      <td>1.000000</td>\n",
       "      <td>0.347455</td>\n",
       "    </tr>\n",
       "    <tr>\n",
       "      <th>Stock_On_Hand</th>\n",
       "      <td>-0.133762</td>\n",
       "      <td>-0.124254</td>\n",
       "      <td>-0.107934</td>\n",
       "      <td>0.398349</td>\n",
       "      <td>0.466751</td>\n",
       "      <td>0.347455</td>\n",
       "      <td>1.000000</td>\n",
       "    </tr>\n",
       "  </tbody>\n",
       "</table>\n",
       "</div>"
      ],
      "text/plain": [
       "                Weight_Kg  Low_Price  High_Price  Sales_Total  Total_Qty_Sold  \\\n",
       "Weight_Kg        1.000000   0.894615    0.925537     0.140129       -0.123981   \n",
       "Low_Price        0.894615   1.000000    0.963068     0.137629       -0.126267   \n",
       "High_Price       0.925537   0.963068    1.000000     0.206280       -0.102852   \n",
       "Sales_Total      0.140129   0.137629    0.206280     1.000000        0.830766   \n",
       "Total_Qty_Sold  -0.123981  -0.126267   -0.102852     0.830766        1.000000   \n",
       "Total_Kg_Sold    0.255056   0.223185    0.315313     0.967193        0.752598   \n",
       "Stock_On_Hand   -0.133762  -0.124254   -0.107934     0.398349        0.466751   \n",
       "\n",
       "                Total_Kg_Sold  Stock_On_Hand  \n",
       "Weight_Kg            0.255056      -0.133762  \n",
       "Low_Price            0.223185      -0.124254  \n",
       "High_Price           0.315313      -0.107934  \n",
       "Sales_Total          0.967193       0.398349  \n",
       "Total_Qty_Sold       0.752598       0.466751  \n",
       "Total_Kg_Sold        1.000000       0.347455  \n",
       "Stock_On_Hand        0.347455       1.000000  "
      ]
     },
     "execution_count": 26,
     "metadata": {},
     "output_type": "execute_result"
    }
   ],
   "source": [
    "df.corr()"
   ]
  },
  {
   "cell_type": "markdown",
   "metadata": {},
   "source": [
    "Let's make a visualisation for easier interpretation."
   ]
  },
  {
   "cell_type": "code",
   "execution_count": 27,
   "metadata": {},
   "outputs": [
    {
     "data": {
      "image/png": "[encoded data removed]",
      "text/plain": [
       "<Figure size 432x288 with 2 Axes>"
      ]
     },
     "metadata": {
      "needs_background": "light"
     },
     "output_type": "display_data"
    }
   ],
   "source": [
    "heatmap = sns.heatmap(df.corr(), vmin=-1, vmax=1, annot=True)"
   ]
  },
  {
   "cell_type": "markdown",
   "metadata": {},
   "source": [
    "### Add some more visualisations!\n",
    "\n",
    "At this point, we should think which variables are redundant.\n",
    "\n",
    "For instance, do we want to keep total qty sold AND totla kg sold? Are they not the same in some sense?\n",
    "\n",
    "Also, we should think about which variables / features are relavant in making our model. (Feature selection)"
   ]
  },
  {
   "cell_type": "markdown",
   "metadata": {},
   "source": [
    "# 4. Model building\n",
    "\n",
    "How do we build a multivariate model? I don't know yet\n",
    "\n",
    "The formula for a simple regression is:\n",
    "\n",
    "$$\\hat{y}_i = a + bx_i$$   "
   ]
  },
  {
   "cell_type": "markdown",
   "metadata": {},
   "source": [
    "We can do this using the sklearn package\n",
    "\n",
    "### Finding the Line of Best Fit\n",
    "\n",
    "Fitting the linear model\n",
    "\n",
    "### Getting model predictions\n",
    "\n",
    "### Assess the accuracy of our model\n",
    "\n",
    "Residual Sum of Squares (RSS)\n",
    "\n",
    "Mean Squared Error\n",
    "\n",
    "R squared"
   ]
  },
  {
   "cell_type": "markdown",
   "metadata": {},
   "source": [
    "# Deploying our model!"
   ]
  }
 ],
 "metadata": {
  "kernelspec": {
   "display_name": "Python 3",
   "language": "python",
   "name": "python3"
  },
  "language_info": {
   "codemirror_mode": {
    "name": "ipython",
    "version": 3
   },
   "file_extension": ".py",
   "mimetype": "text/x-python",
   "name": "python",
   "nbconvert_exporter": "python",
   "pygments_lexer": "ipython3",
   "version": "3.8.5"
  }
 },
 "nbformat": 4,
 "nbformat_minor": 4
}